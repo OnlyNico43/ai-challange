{
 "cells": [
  {
   "attachments": {},
   "cell_type": "markdown",
   "id": "987b97fe-b53d-40a3-9984-a407f8068975",
   "metadata": {},
   "source": [
    "# Einführung in AI\n",
    "\n",
    "Als Einführung in das Thema AI, schaut euch folgende Videos an\n",
    "\n",
    "- [**Künstliche Intelligenz in 5 Minuten erklärt (5 min)**](https://youtu.be/3RsmRMqX2IY)\n",
    "<iframe width=\"560\" height=\"315\" src=\"https://www.youtube.com/embed/3RsmRMqX2IY\" title=\"YouTube video player\" frameborder=\"0\" allow=\"accelerometer; autoplay; clipboard-write; encrypted-media; gyroscope; picture-in-picture; web-share\" allowfullscreen></iframe>\n",
    "\n",
    "- [**Wie Künstliche Intelligenz funktioniert (7 min)**](https://youtu.be/cxCzhFVyUdw)\n",
    "<iframe width=\"560\" height=\"315\" src=\"https://www.youtube.com/embed/cxCzhFVyUdw\" title=\"YouTube video player\" frameborder=\"0\" allow=\"accelerometer; autoplay; clipboard-write; encrypted-media; gyroscope; picture-in-picture; web-share\" allowfullscreen></iframe>\n"
   ]
  },
  {
   "attachments": {},
   "cell_type": "markdown",
   "id": "b3b00cb2",
   "metadata": {},
   "source": [
    "## Fragen\n",
    "\n",
    "Versuche, Antworten auf folgende Fragen zu finden. Wenn du dir nicht sicher bist, bespreche es mit deinem Coach.\n",
    "\n",
    "1. Was ist der Unterschied zwischen \"schwacher\" und \"starker\" KI?\n",
    "2. Erkläre die folgenden Begriffe. Was ist es und was macht es?\n",
    "    - Künstliches Neuron\n",
    "    - Neuronales Netz\n",
    "    - Schichten in einem neuronalen Netz\n",
    "    - Gewichte\n",
    "3. Warum braucht ein neuronales Netz viele Daten um zu lernen?\n",
    "4. Was bedeutet das \"deep\" in Deep Learning?\n"
   ]
  }
 ],
 "metadata": {
  "kernelspec": {
   "display_name": "Python 3 (ipykernel)",
   "language": "python",
   "name": "python3"
  },
  "language_info": {
   "codemirror_mode": {
    "name": "ipython",
    "version": 3
   },
   "file_extension": ".py",
   "mimetype": "text/x-python",
   "name": "python",
   "nbconvert_exporter": "python",
   "pygments_lexer": "ipython3",
   "version": "3.10.5"
  }
 },
 "nbformat": 4,
 "nbformat_minor": 5
}
