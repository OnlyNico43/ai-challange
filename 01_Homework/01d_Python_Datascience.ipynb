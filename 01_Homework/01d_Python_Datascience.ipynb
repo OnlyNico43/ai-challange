{
 "cells": [
  {
   "cell_type": "markdown",
   "metadata": {},
   "source": [
    "# Python für Data Science\n",
    "\n",
    "Die folgenden Aufgaben dienen euer Wissen über Python zu testen. Ausserdem werden einige Libraries vorgestellt, welche ihr später benötigt.\n",
    "\n",
    "⚠️ **Ihr müsst die gelösten Aufgaben eurem Coach abgeben, damit sie bewertet werden.** ⚠️"
   ]
  },
  {
   "cell_type": "markdown",
   "metadata": {},
   "source": [
    "## Files lesen und Arbeiten mit Python\n",
    "Die Library `pathlib` ist eine Sammlung von nützlichen Funktionen für die Arbeit mit Dateien, Ordner und Pfaden (engl: path).\n",
    "\n",
    "### 📝 Aufgabe 1.1\n",
    "\n",
    "- Erstelle eine Funktion, welche nach Bildern sucht\n",
    "- Es sollen alle Bilder mit der Endung `.jpg` gefunden werden\n",
    "- Die Pfade der Bilder sollen als `Path` Objekte in einer Liste zurückgegeben werden\n",
    "- Der Pfad wo das Suchen beginnen soll wird als String übergeben. Es werden auch alle Unterordner (und deren Unterordner) durchsucht.\n",
    "- Stelle sicher, dass die Pfade alphabetisch sortiert zurückgegeben werden\n",
    "- Stelle sicher, dass die Pfade als absolute Pfade (und nicht relative) zurückgegeben werden\n",
    "\n",
    "Tipps:\n",
    "- Benützte für das Arbeiten mit Pfaden die Library [`pathlib`](https://docs.python.org/3/library/pathlib.html) und dessen Objekt `Path`. Vermeide es mit `os.path` zu arbeiten. Gebe die Pfade direkt als `Path` Objekt zurück, nicht als Strings.\n",
    "  "
   ]
  },
  {
   "cell_type": "code",
   "execution_count": null,
   "metadata": {},
   "outputs": [],
   "source": [
    "from pathlib import Path\n",
    "\n",
    "# 📝 Dein Code:\n",
    "def get_image_paths(path: str) -> [Path]:\n",
    "    base_path = Path(path)\n",
    "    jpg_files = list(base_path.rglob(\"*.jpg\"))\n",
    "    absolute_paths = sorted([file.resolve() for file in jpg_files])\n",
    "    return absolute_paths"
   ]
  },
  {
   "cell_type": "code",
   "execution_count": null,
   "metadata": {},
   "outputs": [],
   "source": [
    "# Diese Tests könnt ihr benutzen, um euren Code zu prüfen. Bitte jedoch nicht ändern\n",
    "\n",
    "# Arrange\n",
    "import tempfile\n",
    "p = Path(tempfile.gettempdir()) / \"test1-1\"\n",
    "p.mkdir(exist_ok=True)\n",
    "test_pats = [p / f\"{i}.jpg\" for i in range(5)]\n",
    "[p.touch() for p in reversed(test_pats)]\n",
    "negative = p / \"negative.txt\"\n",
    "negative.touch()\n",
    "\n",
    "# Assert\n",
    "assert type(get_image_paths(p)) == list, \"Die Funktion sollte eine Liste zurückgeben.\"\n",
    "assert len(get_image_paths(p)) == len(test_pats), \"Die Funktion sollte im Test genau 5 JPG-Bilder finden\"\n",
    "assert all(p.is_absolute() for p in get_image_paths('.')), \"Die Funktion sollte absolute Pfade zurückgeben\"\n",
    "assert all(a==b for a,b in zip(get_image_paths(p), sorted([Path(p).resolve() for p in test_pats]))), \"Die Funktion sollte die korrekten Pfade und sortiert zurückgeben\"\n",
    "\n",
    "# Cleanup\n",
    "import shutil; shutil.rmtree(p)"
   ]
  },
  {
   "cell_type": "markdown",
   "metadata": {},
   "source": [
    "### 📝 Aufgabe 1.2\n",
    "\n",
    "- Erstelle eine Funktion, welche eine JSON-Datei einliest\n",
    "  - Falls du nicht weisst, was JSON ist, findest du [hier](https://learnxinyminutes.com/json/) mehr dazu\n",
    "- Als Input bekommt sie einen Pfad (`Path` Objekt)\n",
    "- Als Rückgabe bekommt man die Tuple mit den Werten Angle und Speed als `float`\n",
    "\n",
    "Der Inhalt der JSON Datei sieht z.B. aus:\n",
    "```json\n",
    "{\"angle\": -1.7668205887278248, \"speed\": 5}\n",
    "```\n",
    "\n",
    "Tipp:\n",
    "- Benutze die [json](https://docs.python.org/3/library/json.html) Library aus der Python Standardbibliothek"
   ]
  },
  {
   "cell_type": "code",
   "execution_count": null,
   "metadata": {},
   "outputs": [],
   "source": [
    "import json\n",
    "# 📝 Dein Code:\n",
    "\n",
    "def read_angle_speed(path: Path) -> tuple[float, float]:\n",
    "    with open(path) as f:\n",
    "        data = json.load(f)\n",
    "        angle = float(data[\"angle\"])\n",
    "        speed = float(data[\"speed\"])\n",
    "    return angle, speed"
   ]
  },
  {
   "cell_type": "code",
   "execution_count": null,
   "metadata": {},
   "outputs": [],
   "source": [
    "# Tests\n",
    "\n",
    "# Arrange\n",
    "import tempfile\n",
    "p = Path(tempfile.gettempdir()) / \"test1-2\"\n",
    "p.mkdir(exist_ok=True)\n",
    "json_path = p.resolve() / \"data.json\"\n",
    "json_path.write_text('{\"angle\": 0.5, \"speed\": 5}')\n",
    "\n",
    "# assert return is tuple\n",
    "assert type(read_angle_speed(json_path)) == tuple, \"Die Funktion sollte ein Tuple zurückgeben\"\n",
    "assert all(type(x) == float for x in read_angle_speed(json_path)), \"Der Tuple sollte zwei floats enthalten\"\n",
    "assert read_angle_speed(json_path) == (0.5, 5), \"Die Funktion sollte die korrekten Werte zurückgeben\"\n",
    "\n",
    "# Cleanup\n",
    "import shutil; shutil.rmtree(p)\n"
   ]
  },
  {
   "cell_type": "markdown",
   "metadata": {},
   "source": [
    "## Bilder einlesen bearbeiten mit PIL (Pillow)\n",
    "\n",
    "Pillow ist eine Python-Library um mit Bildern zu arbeiten. Du kannst mehr darüber in der offiziellen [Dokumentation](https://pillow.readthedocs.io/en/stable/) lesen. Pillow ist in unserer Umgebung schon vorinstalliert.\n",
    "\n",
    "### 📝 Aufgabe 1.3\n",
    "\n",
    "- Erstelle eine Funktion, welche Bilder öffnet\n",
    "- Der Pfad des Bildes wird als als `Path` Objekt übergeben\n",
    "- Das Bild wird als PIL `Image` Objekt zurückgegeben\n",
    "- Optional soll die Funktion die Grösse des Bildes ändern\n",
    "  - Wird `resize=None` übergeben, wird nichts geändert\n",
    "  - Wird ein Tuple (B, W) übergeben, wird es entsprechend geändert"
   ]
  },
  {
   "cell_type": "code",
   "execution_count": null,
   "metadata": {},
   "outputs": [],
   "source": [
    "from PIL import Image\n",
    "\n",
    "def open_image(path: Path, resize = None) -> Image:\n",
    "    img = Image.open(path)\n",
    "    if resize:\n",
    "        img = img.resize(resize)\n",
    "    return img\n"
   ]
  },
  {
   "cell_type": "code",
   "execution_count": null,
   "metadata": {},
   "outputs": [],
   "source": [
    "# Tests\n",
    "\n",
    "# Arrange\n",
    "import tempfile\n",
    "p = Path(tempfile.gettempdir()) / \"test1-3\"\n",
    "p.mkdir(exist_ok=True)\n",
    "img_path = p / \"test.jpg\"\n",
    "img = Image.new('RGB', (20, 20), 'white')\n",
    "img.save(img_path)\n",
    "\n",
    "# Assert\n",
    "assert issubclass(type(open_image(img_path)), Image.Image) , \"Die Funktion sollte ein Image-Objekt zurückgeben\"\n",
    "assert open_image(img_path).size == (20, 20), \"Das Bild sollte nicht verändert werden wenn kein resize angegeben ist\"\n",
    "assert open_image(img_path, (10, 10)).size == (10, 10), \"Das Bild sollte verkleinert werden wenn ein resize angegeben ist\"\n",
    "\n",
    "# Cleanup\n",
    "import shutil; shutil.rmtree(p)"
   ]
  },
  {
   "cell_type": "markdown",
   "metadata": {},
   "source": [
    "## Plotten mit Matplotlib\n",
    "Matplotlib ist eine Library um Grafiken zu erstellen und auszugeben. Wir verwenden matplotlib immer wieder in der AI Challenge und auch sonst wird sie häufig für Machine Learning oder Data Science Projekte benutzt.\n",
    "\n",
    "### 📝 Aufgabe 1.4 a)\n",
    "1. Wir wollen eine Funktion schreiben welche Bilder in einem Raster plottet (darstellt). Beginnen wir damit 3 Bilder in einer Reihe zu plotten. Benutze die Funktion `plt.subplots(ncols=?)`. Sie gibt dir zwei Objekte zurück, als erstes die `figure` welche alle Informationen zum Plot enthält. Als zweites gibt sie ein `axes` Objekt zurück. Das ist eine Liste welche die einzelnen Positionen des Plots beinhaltet. Wir können die Länge der Liste mit dem `ncols` Parameter steuern.\n",
    "Wir können an den ersten Platz in der Liste ein Bild platzieren indem wir folgendes schreiben: `axes[0].imshow( ... )`. Versuche mit diesen beiden Bausteinen drei Bilder von `images` zu plotten. Du kannst deinen plot mit `plt.show()` anzeigen.\n",
    "2. Teste deine Funktion mit dem Codeblock unten (du musst die Zelle nur ausführen, nichts ändern).\n",
    "3. Wenn der Code funktioniert solltest du den Seedamm in Rapperswil sehen. Um das Bild richtig ansehen zu können stören die Achsenbeschriftungen. Um diese auszublenden, schreien wir die Funktion um:\n",
    "   1. Statt dreimal `axes[i]...` zu schreiben verwenden wir jetzt einen Loop. Wir können die `zip(x, y)` Funktion benutzen um über zwei Listen gleichzeitig zu iterieren. Wir erhalten dann jeweils zwei Loop-Variablen (z.B. ax und image)\n",
    "   2. Verwende im loop neben `.imshow()` noch `.axis('off')` um die Beschriftung auszublenden.\n",
    "   3. Optional kannst du nach dem Loop noch `figure.tight_layout()` verwenden"
   ]
  },
  {
   "cell_type": "code",
   "execution_count": null,
   "metadata": {},
   "outputs": [],
   "source": [
    "import matplotlib.pyplot as plt\n",
    "from PIL.Image import Image as Img\n",
    "\n",
    "\n",
    "def plot_images(images: list[Img]):\n",
    "    fig, axs = plt.subplots(ncols=3)\n",
    "    for ax, img in zip(axs, images):\n",
    "        ax.imshow(img)\n",
    "        ax.axis('off')\n",
    "    plt.show()\n",
    "    "
   ]
  },
  {
   "cell_type": "markdown",
   "metadata": {},
   "source": [
    "Teste ob deine Funktion funktioniert:"
   ]
  },
  {
   "cell_type": "code",
   "execution_count": null,
   "metadata": {},
   "outputs": [],
   "source": [
    "from pathlib import Path\n",
    "from PIL import Image\n",
    "\n",
    "image_path = Path('../assets/week-01/test-images-1')\n",
    "test_image_paths = sorted([image_path for image_path in image_path.iterdir() if image_path.suffix == '.jpg'])\n",
    "test_images = [Image.open(p) for p in test_image_paths]\n",
    "\n",
    "plot_images(images=test_images)"
   ]
  },
  {
   "cell_type": "markdown",
   "metadata": {},
   "source": [
    "### 📝 Aufgabe 1.4 b)\n",
    "Unsere Panoramaaufnahme sieht gut aus, wir wollen aber auch grössere Bilder plotten können. Dazu brauchen wir eine zweite Reihe (row) von Bildern.\n",
    "1. Füge der Funktion `plt.subplots` den Parameter `nrows=?` hinzu um eine zweite Reihe von Bildern zu erstellen\n",
    "2. `axes` ist jetzt nicht mehr eine Liste sondern eine 2-Dimensionale Array (quasi eine Tabelle)\n",
    "3. Um über diese 2D-Array zu loopen kannst du `axes.flat` verwenden. Das macht aus der 2D-Array wieder eine normale Liste"
   ]
  },
  {
   "cell_type": "code",
   "execution_count": null,
   "metadata": {},
   "outputs": [],
   "source": [
    "def plot_images(images: list[Img]):\n",
    "    figure, axes = plt.subplots(ncols=3, nrows=2)\n",
    "\n",
    "    for ax, image in zip(axes.flat, images):\n",
    "        ax.imshow(image)\n",
    "        ax.axis('off')\n",
    "\n",
    "    figure.tight_layout()\n",
    "\n",
    "    plt.show()"
   ]
  },
  {
   "cell_type": "code",
   "execution_count": null,
   "metadata": {},
   "outputs": [],
   "source": [
    "from pathlib import Path\n",
    "from PIL import Image\n",
    "\n",
    "image_path = Path('../assets/week-01/test-images-2')\n",
    "test_image_paths = sorted([image_path for image_path in image_path.iterdir() if image_path.suffix == '.jpg'])\n",
    "test_images = [Image.open(p) for p in test_image_paths]\n",
    "\n",
    "plot_images(images=test_images)"
   ]
  },
  {
   "cell_type": "markdown",
   "metadata": {},
   "source": [
    "Gib beide Funktionen a) und b) deinem Coach ab. Wenn du nicht weiterkommst schaue in der Dokumentation von Matplotlib nach. Du kannst auch ein LLM (wie z.B. ChatGPT, Gemini, Claude usw.) benutzen, kopiere aber nicht nur die Lösung sondern erarbeite Sie mit der AI zusammen. Z.B: *\"Ich versuche folgende Aufgabe zu lösen aber komme bei X nicht weiter. Kannst du mir den nächsten Schritt erklären ohne die komplette Lösung zu zeigen...\"*"
   ]
  }
 ],
 "metadata": {
  "kernelspec": {
   "display_name": "Python 3",
   "language": "python",
   "name": "python3"
  },
  "language_info": {
   "codemirror_mode": {
    "name": "ipython",
    "version": 3
   },
   "file_extension": ".py",
   "mimetype": "text/x-python",
   "name": "python",
   "nbconvert_exporter": "python",
   "pygments_lexer": "ipython3",
   "version": "3.12.3"
  }
 },
 "nbformat": 4,
 "nbformat_minor": 2
}
