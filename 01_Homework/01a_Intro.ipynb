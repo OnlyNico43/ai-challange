{
 "cells": [
  {
   "attachments": {},
   "cell_type": "markdown",
   "metadata": {
    "pycharm": {
     "name": "#%% md\n"
    }
   },
   "source": [
    "# Woche 1\n",
    "\n",
    "Am Kickoff und in der ersten Woche macht ihr euch mit den Werkzeugen (englisch: Tools) und Technologien bekannt, die wir für die AI-Challenge benötigen.\n",
    "\n",
    "**Ziele/Checkliste:**\n",
    "\n",
    "- Die Programmiersprache Python kennenlernen\n",
    "- Zugriff auf die Coder Umgebung haben und die Grundlagen von Visual Studio Code kennen\n",
    "- Mit Notebooks arbeiten und verstehen wie diese funktionieren\n",
    "  - Zellen mit Python-Code ausführen\n",
    "  - Eigene Zellen erstellen (mit Code und Text)\n",
    "  - Laufzeit neu starten\n",
    "- Einführung in ML/AI\n",
    "  - Präsentation zu AI am Kick-Off\n",
    "  - Videos Zuhause schauen\n",
    "  - Die Frameworks und Libraries kennenlernen"
   ]
  },
  {
   "cell_type": "markdown",
   "metadata": {},
   "source": []
  }
 ],
 "metadata": {
  "language_info": {
   "name": "python"
  },
  "orig_nbformat": 4
 },
 "nbformat": 4,
 "nbformat_minor": 2
}
