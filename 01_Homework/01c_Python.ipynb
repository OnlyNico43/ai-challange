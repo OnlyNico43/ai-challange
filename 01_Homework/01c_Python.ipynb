{
 "cells": [
  {
   "cell_type": "markdown",
   "id": "a709fc95",
   "metadata": {},
   "source": [
    "# Die Programmiersprache Python 🐍\n",
    "\n",
    "Bei der AI-Challenge wird die Programmiersprache Python verwendet. Python ist einfach zu lernen und in der AI-Community weit verbreitet und bietet viele nützliche Libraries."
   ]
  },
  {
   "cell_type": "markdown",
   "id": "47a845b2",
   "metadata": {},
   "source": [
    "### 📝 Aufgabe 1: Variablen und Datentypen\n",
    "\n",
    "Schreiben Sie ein Python-Programm, das folgende Schritte ausführt:\n",
    "\n",
    "1. Erstelle eine Variable `name` und weise ihr deinen eigenen Namen als Text (`string`) zu.\n",
    "1. Erstelle eine Variable `alter` und weise ihr dein Alter (ganze Zahl) zu.\n",
    "1. Erstelle eine Variable `grösse` und weise ihr deine Körpergrösse in Metern (z. B. 1.75 als Kommazahl) zu.\n",
    "1. Gib eine Nachricht aus, die in etwa so aussieht: „Hallo, ich heisse [Name], bin [Alter] Jahre alt und [Grösse] Meter gross.“\n",
    "\n",
    "**Erwartete Ausgabe:**\n",
    "\n",
    "```\n",
    "Hallo, ich heisse Max, bin 25 Jahre alt und 1.75 Meter gross.\n",
    "```"
   ]
  },
  {
   "cell_type": "code",
   "execution_count": 1,
   "id": "f7206be1",
   "metadata": {},
   "outputs": [
    {
     "name": "stdout",
     "output_type": "stream",
     "text": [
      "Hallo, ich heisse Nico, bin 17 Jahre alt und 1.73 Meter gross.\n"
     ]
    }
   ],
   "source": [
    "# 📝 Dein Code:\n",
    "print(\"Hallo, ich heisse Nico, bin 17 Jahre alt und 1.73 Meter gross.\")\n"
   ]
  },
  {
   "cell_type": "markdown",
   "id": "210f5650",
   "metadata": {},
   "source": [
    "### 📝 Aufgabe 2: Bedingungen (if-else)\n",
    "\n",
    "Schreibe ein Programm, welches das Alter eines Benutzers überprüft und entscheidet, ob der Benutzer volljährig ist (18 Jahre oder älter).\n",
    "\n",
    "1. Erstelle eine Variable `alter` und weise ihr eine Zahl zu.\n",
    "1. Verwende eine if-else-Bedingung, um zu prüfen, ob `alter` grösser oder gleich 18 ist.\n",
    "1. Gib „Volljährig“ aus, wenn die Bedingung wahr ist, und „Minderjährig“, wenn die Bedingung falsch ist.\n",
    "1. Teste ob der Code stimmt indem du für `alter` unterschiedliche Werte verwendest.\n",
    "\n",
    "**Erwartete Ausgabe:**\n",
    "\n",
    "```\n",
    "Volljährig\n",
    "```\n",
    "oder\n",
    "```\n",
    "Minderjährig\n",
    "```"
   ]
  },
  {
   "cell_type": "code",
   "execution_count": null,
   "id": "d17f8733",
   "metadata": {},
   "outputs": [
    {
     "data": {
      "text/plain": [
       "'Volljährig'"
      ]
     },
     "execution_count": 4,
     "metadata": {},
     "output_type": "execute_result"
    }
   ],
   "source": [
    "# 📝 Dein Code:\n",
    "\n",
    "def is_old_enough(age):\n",
    "  if age >= 18:\n",
    "    return \"Volljährig\"\n",
    "  else:\n",
    "    return \"Minderjährig\"\n",
    "\n",
    "age = 18\n",
    "\n",
    "is_old_enough(age)"
   ]
  },
  {
   "cell_type": "markdown",
   "id": "3f60ccf8",
   "metadata": {},
   "source": [
    "### 📝 Aufgabe 3: Schleifen (for und while)\n",
    "\n",
    "1. Erstelle eine for-Schleife, die die Zahlen von 1 bis 10 nacheinander ausgibt.\n",
    "1. Erstelle eine while-Schleife, die die Zahlen von 10 bis 1 rückwärts ausgibt.\n",
    "\n",
    "**Erwartete Ausgabe:**\n",
    "\n",
    "```\n",
    "1\n",
    "2\n",
    "3\n",
    "4\n",
    "5\n",
    "6\n",
    "7\n",
    "8\n",
    "9\n",
    "10\n",
    "10\n",
    "9\n",
    "8\n",
    "7\n",
    "6\n",
    "5\n",
    "4\n",
    "3\n",
    "2\n",
    "1\n",
    "```"
   ]
  },
  {
   "cell_type": "code",
   "execution_count": null,
   "id": "0dd50b8e",
   "metadata": {},
   "outputs": [
    {
     "name": "stdout",
     "output_type": "stream",
     "text": [
      "1\n",
      "2\n",
      "3\n",
      "4\n",
      "5\n",
      "6\n",
      "7\n",
      "8\n",
      "9\n",
      "10\n",
      "10\n",
      "9\n",
      "8\n",
      "7\n",
      "6\n",
      "5\n",
      "4\n",
      "3\n",
      "2\n",
      "1\n"
     ]
    }
   ],
   "source": [
    "# 📝 Dein Code:\n",
    "for i in range(1, 11):\n",
    "  print(i)\n",
    "\n",
    "i = 10\n",
    "while i > 0:\n",
    "  print(i)\n",
    "  i -= 1"
   ]
  },
  {
   "cell_type": "markdown",
   "id": "11cb80ac",
   "metadata": {},
   "source": [
    "### 📝 Aufgabe 4: Listen und Schleifen\n",
    "\n",
    "Schreibe ein Programm, das eine Liste von fünf Namen enthält und diese Namen mit einer Schleife einzeln ausgibt.\n",
    "\n",
    "1. Erstellen Sie eine Liste namens `namen` mit fünf Namen Ihrer Wahl.\n",
    "1. Verwenden Sie eine for-Schleife, um jeden Namen in der Liste zu drucken.\n",
    "\n",
    "**Erwartete Ausgabe (Beispiel):**\n",
    "\n",
    "```\n",
    "Anna\n",
    "Ben\n",
    "Carla\n",
    "David\n",
    "Eva\n",
    "```"
   ]
  },
  {
   "cell_type": "code",
   "execution_count": 8,
   "id": "e1511c264c3b206d",
   "metadata": {},
   "outputs": [
    {
     "name": "stdout",
     "output_type": "stream",
     "text": [
      "Anna\n",
      "Ben\n",
      "Carla\n",
      "David\n",
      "Eva\n"
     ]
    }
   ],
   "source": [
    "# 📝 Dein Code:\n",
    "namen = [\"Anna\", \"Ben\", \"Carla\", \"David\", \"Eva\"]\n",
    "\n",
    "for name in namen:\n",
    "  print(name)"
   ]
  },
  {
   "cell_type": "markdown",
   "id": "b53ada41",
   "metadata": {},
   "source": [
    "### 📝 Aufgabe 5: Funktionen\n",
    "\n",
    "Schreiben Sie eine Funktion namens `begruessung`, die den Namen und das Alter einer Person als Argumente entgegennimmt und eine Begrüssungsnachricht ausgibt.\n",
    "\n",
    "1. Definieren Sie die Funktion `begruessung(name, alter)`.\n",
    "2. Verwenden Sie ein print, um eine Nachricht wie „Hallo [Name], du bist [Alter] Jahre alt.“ auszugeben.\n",
    "3. Rufen Sie die Funktion mindestens zweimal mit verschiedenen Namen und Altersangaben auf.\n",
    "\n",
    "**Erwartete Ausgabe (Beispiel):**\n",
    "\n",
    "```\n",
    "Hallo Anna, du bist 20 Jahre alt.\n",
    "Hallo Ben, du bist 30 Jahre alt.\n",
    "```"
   ]
  },
  {
   "cell_type": "code",
   "execution_count": 9,
   "id": "270cd255acde338b",
   "metadata": {},
   "outputs": [
    {
     "name": "stdout",
     "output_type": "stream",
     "text": [
      "Hallo Nico, du bist 17 alt.\n",
      "Hallo Fabian, du bist 18 alt.\n",
      "Hallo Patrick, du bist 17 alt.\n"
     ]
    }
   ],
   "source": [
    "# 📝 Dein Code:\n",
    "def greetings(name, age):\n",
    "  print(f\"Hallo {name}, du bist {age} alt.\")\n",
    "\n",
    "greetings(\"Nico\", 17)\n",
    "greetings(\"Fabian\", 18)\n",
    "greetings(\"Patrick\", 17)"
   ]
  },
  {
   "cell_type": "markdown",
   "id": "fabd137f",
   "metadata": {},
   "source": [
    "### 📝 Aufgabe 6: Einfache Berechnung mit Funktionen\n",
    "\n",
    "Schreibe eine Funktion namens `addiere`, die zwei Zahlen als Argumente entgegennimmt und deren Summe zurückgibt.\n",
    "\n",
    "1. Definiere die Funktion `addiere(zahl1, zahl2)`.\n",
    "2. Die Funktion sollte die Summe von `zahl1` und `zahl2` berechnen und zurückgeben.\n",
    "3. Rufe die Funktion auf und gib das Ergebnis aus.\n",
    "\n",
    "**Erwartete Ausgabe (Beispiel):**\n",
    "```\n",
    "Die Summe ist: 15\n",
    "```"
   ]
  },
  {
   "cell_type": "code",
   "execution_count": 10,
   "id": "1aea9590362e4d92",
   "metadata": {},
   "outputs": [
    {
     "name": "stdout",
     "output_type": "stream",
     "text": [
      "Die Summe ist 15\n"
     ]
    }
   ],
   "source": [
    "# 📝 Dein Code:\n",
    "def sum(x, y):\n",
    "  print(f\"Die Summe ist {x + y}\")\n",
    "\n",
    "sum(7, 8)"
   ]
  },
  {
   "cell_type": "markdown",
   "id": "d97c855e",
   "metadata": {},
   "source": [
    "### 📝 Aufgabe 7: Zahlen raten (if-else und while)\n",
    "\n",
    "Schreibe ein einfaches Zahlenspiel:\n",
    "\n",
    "1. Erstelle eine Variable `geheime_zahl` und setze sie auf eine zufällige Zahl zwischen 1 und 10.\n",
    "2. Bitte den Benutzer mit `input()` um eine Zahl und speichere die Eingabe in der Variable `tipp`.\n",
    "3. Verwende eine while-Schleife, die läuft, solange `tipp` nicht gleich `geheime_zahl` ist.\n",
    "4. Wenn `tipp` zu hoch ist, gib „Zu hoch!“ aus, wenn `tipp` zu niedrig ist, gib „Zu niedrig!“ aus.\n",
    "5. Wenn der Benutzer die richtige Zahl errät, beende den Loop und gib „Herzlichen Glückwunsch!“ aus.\n",
    "\n",
    "> Hinweis: Beim Ausführen dieser Zelle werden Eingaben über die Konsole abgefragt."
   ]
  },
  {
   "cell_type": "code",
   "execution_count": 12,
   "id": "6c9350f78f4ff636",
   "metadata": {},
   "outputs": [
    {
     "name": "stdout",
     "output_type": "stream",
     "text": [
      "You guessed correctly\n"
     ]
    }
   ],
   "source": [
    "# 📝 Dein Code:\n",
    "import random\n",
    "\n",
    "random_number = random.randint(1, 10)\n",
    "\n",
    "guess = 0\n",
    "\n",
    "while int(guess) != random_number:\n",
    "  guess = input(\"Guess the random number: \")\n",
    "\n",
    "print(\"You guessed correctly\")\n",
    "\n"
   ]
  },
  {
   "cell_type": "markdown",
   "id": "f10b1fe8",
   "metadata": {},
   "source": [
    "### 📝 Aufgabe 8: String-Manipulation\n",
    "\n",
    "Schreibe ein Programm, das:\n",
    "\n",
    "1. Den Benutzer nach seinem Namen fragt.\n",
    "2. Den Namen in Grossbuchstaben und Kleinbuchstaben ausgibt.\n",
    "3. Die Anzahl der Buchstaben im Namen ausgibt (ohne Leerzeichen).\n",
    "\n",
    "**Erwartete Ausgabe (Beispiel):**\n",
    "\n",
    "```\n",
    "Geben Sie Ihren Namen ein: Max Mustermann\n",
    "Ihr Name in Grossbuchstaben: MAX MUSTERMANN\n",
    "Ihr Name in Kleinbuchstaben: max mustermann\n",
    "Anzahl der Buchstaben: 13\n",
    "```\n",
    "\n",
    "> Hinweis: Beim Ausführen dieser Zelle werden Eingaben über die Konsole abgefragt."
   ]
  },
  {
   "cell_type": "code",
   "execution_count": 21,
   "id": "65e9f85786cd599",
   "metadata": {},
   "outputs": [
    {
     "name": "stdout",
     "output_type": "stream",
     "text": [
      "Your name in uppercase: NICO B\n",
      "Your name in lowercase: nico b\n",
      "Your names length: 5\n"
     ]
    }
   ],
   "source": [
    "# 📝 Dein Code:\n",
    "name = input(\"Enter your name: \")\n",
    "print(f\"Your name in uppercase: {name.upper()}\")\n",
    "print(f\"Your name in lowercase: {name.lower()}\")\n",
    "print(f\"Your names length: {len(name.replace(\" \", \"\"))}\")"
   ]
  },
  {
   "cell_type": "markdown",
   "id": "fd90aa09",
   "metadata": {},
   "source": [
    "### 📝 Aufgabe 9: Wörterbuch durchsuchen\n",
    "\n",
    "Schreibe ein Programm, das ein Wörterbuch mit englisch-deutschen Übersetzungen durchsucht.\n",
    "\n",
    "1. Erstelle ein Dictionary namens `woerterbuch` mit englisch-deutschen Übersetzungen, z. B. `{\"apple\": \"Apfel\", \"banana\": \"Banane\", \"cherry\": \"Kirsche\"}`.\n",
    "1. Frage den Benutzer ein englisches Wort einzugeben.\n",
    "1. Wenn das Wort im Wörterbuch vorhanden ist, gib die deutsche Übersetzung aus.\n",
    "1. Wenn das Wort nicht im Wörterbuch ist, gib „Übersetzung nicht gefunden“ aus.\n",
    "\n",
    "**Erwartete Ausgabe (Beispiele):**\n",
    "\n",
    "```\n",
    "Geben Sie ein englisches Wort ein: apple\n",
    "Übersetzung: Apfel\n",
    "\n",
    "Geben Sie ein englisches Wort ein: orange\n",
    "Übersetzung nicht gefunden\n",
    "```\n",
    "\n",
    "> Hinweis: Beim Ausführen dieser Zelle werden Eingaben über die Konsole abgefragt."
   ]
  },
  {
   "cell_type": "code",
   "execution_count": 23,
   "id": "a50ab4c52fefa284",
   "metadata": {},
   "outputs": [
    {
     "name": "stdout",
     "output_type": "stream",
     "text": [
      "No translation found\n"
     ]
    }
   ],
   "source": [
    "# 📝 Dein Code:\n",
    "dictionary = {\"apple\": \"Apfel\", \"banana\": \"Banane\", \"cherry\": \"Kirsche\"}\n",
    "\n",
    "english_word = input(\"Input an english word: \")\n",
    "\n",
    "if english_word in dictionary:\n",
    "  print(f\"Translation: {dictionary.get(english_word)}\")\n",
    "else:\n",
    "  print(\"No translation found\")"
   ]
  },
  {
   "cell_type": "markdown",
   "id": "cdd3a405",
   "metadata": {},
   "source": [
    "### 📝 Aufgabe 10: break, continue und Dictionaries kombinieren\n",
    "\n",
    "Schreibe ein Programm, welches ein einfaches Menü erstellt, um mit einem Dictionary interaktiv zu arbeiten.\n",
    "\n",
    "1. Erstelle ein Dictionary namens `freunde`, das einige Namen und deren Lieblingsspeisen enthält, z. B. `{\"Anna\": \"Pizza\", \"Ben\": \"Sushi\", \"Clara\": \"Pasta\"}`.\n",
    "1. Erstelle eine while-Schleife, die das folgende Menü anzeigt:\n",
    "   - 1. Lieblingsspeise anzeigen\n",
    "   - 2. Lieblingsspeise hinzufügen oder ändern\n",
    "   - 3. Beenden\n",
    "1. Der Benutzer wählt eine Option:\n",
    "   - Wenn der Benutzer „1“ wählt, frage ihn um einen Namen und gib die Lieblingsspeise der Person aus.\n",
    "     - Falls der Name nicht im Dictionary vorhanden ist, gib „Freund nicht gefunden“ aus.\n",
    "   - Wenn der Benutzer „2“ wählt, frage ihn um einen Namen und eine Lieblingsspeise, und füge diese zum Dictionary hinzu oder ändere den Eintrag.\n",
    "   - Wenn der Benutzer „3“ wählt, verwende `break`, um die Schleife zu beenden.\n",
    "\n",
    "**Erwartete Ausgabe (Beispiele):**\n",
    "\n",
    "```\n",
    "Wählen Sie eine Option:\n",
    "1. Lieblingsspeise anzeigen\n",
    "2. Lieblingsspeise hinzufügen oder ändern\n",
    "3. Beenden\n",
    "Option: 1\n",
    "Name: Anna\n",
    "Lieblingsspeise: Pizza\n",
    "\n",
    "Option: 2\n",
    "Name: Max\n",
    "Lieblingsspeise: Burger\n",
    "\n",
    "Option: 3\n",
    "```\n",
    "> Hinweis: Beim Ausführen dieser Zelle werden Eingaben über die Konsole abgefragt."
   ]
  },
  {
   "cell_type": "code",
   "execution_count": null,
   "id": "d36506c717a8a629",
   "metadata": {},
   "outputs": [
    {
     "name": "stdout",
     "output_type": "stream",
     "text": [
      "Options:\n",
      "1. Show favorite food\n",
      "2. Add or edit favorite foods\n",
      "3. Exit\n",
      "Favorite food of Anna is Pizza\n",
      "Options:\n",
      "1. Show favorite food\n",
      "2. Add or edit favorite foods\n",
      "3. Exit\n",
      "Set favorite food of test to be test\n",
      "Options:\n",
      "1. Show favorite food\n",
      "2. Add or edit favorite foods\n",
      "3. Exit\n",
      "Favorite food of test is test\n",
      "Options:\n",
      "1. Show favorite food\n",
      "2. Add or edit favorite foods\n",
      "3. Exit\n",
      "Invalid input try again\n",
      "Options:\n",
      "1. Show favorite food\n",
      "2. Add or edit favorite foods\n",
      "3. Exit\n",
      "Invalid input try again\n",
      "Options:\n",
      "1. Show favorite food\n",
      "2. Add or edit favorite foods\n",
      "3. Exit\n",
      "Set favorite food of test to be testtest\n",
      "Options:\n",
      "1. Show favorite food\n",
      "2. Add or edit favorite foods\n",
      "3. Exit\n",
      "Favorite food of test is testtest\n",
      "Options:\n",
      "1. Show favorite food\n",
      "2. Add or edit favorite foods\n",
      "3. Exit\n"
     ]
    }
   ],
   "source": [
    "# 📝 Dein Code:\n",
    "favoriteFoods = {\"Anna\": \"Pizza\", \"Ben\": \"Sushi\", \"Clara\": \"Pasta\"}\n",
    "\n",
    "while True:\n",
    "  print(\"Options:\")\n",
    "  print(\"1. Show favorite food\")\n",
    "  print(\"2. Add or edit favorite foods\")\n",
    "  print(\"3. Exit\")\n",
    "\n",
    "  selection = input(\"Action (1,2 or 3): \")\n",
    "\n",
    "  try:\n",
    "      validatedSelection = int(selection)\n",
    "      if not (1 <= validatedSelection <= 3):\n",
    "          raise Exception(\"Input value needs to be between 1,2 or 3\")\n",
    "  except:\n",
    "      print(\"Invalid input try again\")\n",
    "      continue\n",
    "\n",
    "  match validatedSelection:\n",
    "      case 1:\n",
    "          name = input(\"Enter name:\")\n",
    "          if name in favoriteFoods:\n",
    "              print(f\"Favorite food of {name} is {favoriteFoods[name]}\")\n",
    "          else:\n",
    "              print(\"Name not found\")\n",
    "      case 2:\n",
    "          name = input(\"Enter name:\")\n",
    "          food = input(\"Enter favorite food:\")\n",
    "          favoriteFoods[name] = food\n",
    "          print(f\"Set favorite food of {name} to be {food}\")\n",
    "      case 3:\n",
    "          break\n"
   ]
  },
  {
   "cell_type": "code",
   "execution_count": null,
   "id": "abdb0bb7",
   "metadata": {},
   "outputs": [],
   "source": []
  }
 ],
 "metadata": {
  "kernelspec": {
   "display_name": ".venv (3.12.3)",
   "language": "python",
   "name": "python3"
  },
  "language_info": {
   "codemirror_mode": {
    "name": "ipython",
    "version": 3
   },
   "file_extension": ".py",
   "mimetype": "text/x-python",
   "name": "python",
   "nbconvert_exporter": "python",
   "pygments_lexer": "ipython3",
   "version": "3.12.3"
  }
 },
 "nbformat": 4,
 "nbformat_minor": 5
}
