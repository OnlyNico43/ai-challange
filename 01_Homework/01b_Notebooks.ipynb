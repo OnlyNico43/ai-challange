{
 "cells": [
  {
   "attachments": {},
   "cell_type": "markdown",
   "metadata": {},
   "source": [
    "## Was sind Notebooks?\n",
    "\n",
    "Mit Notebooks ist es ganz einfach, Programmcode und formatierten Text in einem gemeinsamen Dokument zu haben. Auch dieses Dokument, das du gerade liest, ist ein Notebook!\n",
    "\n",
    "\n",
    "Ein Notebook setzt sich aus sogenannten Zellen (Cells) zusammen, welche entweder Programmcode oder formatierten Text als Markdown (dazu mehr später) enthalten. Der Programmcode lässt sich pro Zelle oder auch alle zusammen ausführen. Notebooks haben die Dateiendung `.ipynb`.\n",
    "\n",
    "![](../assets/week-01/notebook-annotated.png)\n",
    "\n",
    "Notebooks eignen sich für verschiedenen Dinge, zum Beispiel für eine interaktive Anleitung wie diese, oder um seine eigenen Arbeiten und Erkenntnisse zu dokumentieren. Perfekt für unsere AI-Challenge!"
   ]
  },
  {
   "attachments": {},
   "cell_type": "markdown",
   "metadata": {},
   "source": [
    "## Was ist Markdown?\n",
    "\n",
    "Wir haben jetzt schon ein paar mal gehört, dass Text-Zellen in Markdown geschrieben werden. Mit Markdown lässt sich ein Dokument einfach durch Sonderzeichen formatieren, ohne \"mühsam\" den Text zuerst markieren zu müssen und mit der Maus zu klicken, wie man das z.B. aus Word kennt. In der Informatik wird das viel benützt, da man mit etwas Übung schneller schreiben kann. So wird zum Beispiel mit einem Hash-Symbol \\# ein Titel eingefügt. Oder mit zwei Sternchen etwas \\*\\*fett\\*\\* geschrieben.\n",
    "\n",
    "**Hinweis:** Ihr müsst in diesem Kurs grundsätzlich kein eigenes Markdown schreiben! Ihr könnt dies aber tun, falls ihr eigene Notebooks erstellen oder bestehende anpassen wollt (z.B. Notizen oder Resultate einfügen).\n",
    "\n",
    "Ihr könnt die Syntax für Markdown hier nachschlagen: [Markdown Guide](https://colab.research.google.com/notebooks/markdown_guide.ipynb)"
   ]
  }
 ],
 "metadata": {
  "language_info": {
   "name": "python"
  },
  "orig_nbformat": 4
 },
 "nbformat": 4,
 "nbformat_minor": 2
}
