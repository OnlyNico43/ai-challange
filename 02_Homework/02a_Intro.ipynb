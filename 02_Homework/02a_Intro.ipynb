{
 "cells": [
  {
   "attachments": {},
   "cell_type": "markdown",
   "metadata": {},
   "source": [
    "# Künstliche Intelligenz\n",
    "\n",
    "In dieser Woche werden wir uns vertieft mit dem Thema neuronale Netzwerke beschäftigen und unsere erste AI zur Bilderkennung trainieren.\n",
    "\n",
    "**Ziele/Checkliste:**\n",
    "\n",
    "- AI Grundlagen:\n",
    "  - Nachvollziehen können, wie ein neuronales Netzwerk funktioniert und lernt\n",
    "  - Verstehen, was ein \"Convolution Neuronal Netzwerk\" macht und warum es bei Bildern sinnvoll ist\n",
    "  - Den Machine-Learning Ablauf kennen\n",
    "- Praktischer Teil:\n",
    "  - Ein erstes Netzwerk zur Handschrifterkennung trainieren\n",
    "  - Den Trainingsablauf und seine Parameter verstehen:\n",
    "    - Trainigs-, Validierungs- und Test-Set\n",
    "    - Die Lernkurve sowie Over/Underfitting verstehen\n",
    "    - Parameter & Metriken für Optimierungen kennenlernen\n",
    "  - Eigene Layer/Netzwerke bauen\n",
    "  - PyTorch besser kennenlernen\n"
   ]
  },
  {
   "metadata": {},
   "cell_type": "code",
   "source": "",
   "outputs": [],
   "execution_count": null
  }
 ],
 "metadata": {
  "language_info": {
   "name": "python"
  },
  "orig_nbformat": 4
 },
 "nbformat": 4,
 "nbformat_minor": 2
}
