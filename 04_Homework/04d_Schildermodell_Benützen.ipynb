{
 "cells": [
  {
   "cell_type": "markdown",
   "id": "4414db348ff7d37",
   "metadata": {},
   "source": [
    "# Schilder Modell benutzen\n",
    "Um das Schilder Modell zusammen mit dem Fahrmodell auf dem Auto fahren zu lassen brauchen wir ein neues `prediction.py` Skript. Du kannst jetzt zusätzlich zu den beiden Modellen und der `SPEED` noch weitere Parameter konfigurieren:\n",
    "- `SLOW_SPEED` Wie schnell fährt das Auto in einer 50er Zone. Du kannst diesen Wert optimieren, indem du misst, wie schnell (Distanz / Zeit) das Auto bei einer gewissen Leistung (z.B. 30%) fährt. Je näher du an der Geschwindigkeitsbegrenzung von 50cm/s bist desto weniger Zeit verlierst du in den 50er Zonen. Aber Achtung: fährt dein Auto an der Challenge zu schnell, bekommst du Punktabzüge.\n",
    "- `SIGN_THRESHOLD` Predictions vom Schilder Modell welche eine Confidence unter diesen Wert haben werden ignoriert (als `no_sign` behandelt). Verändere diesen Wert damit damit dein Modell optimal funktioniert. Es ist eine Abwägung zwischen falschen Positiven (tiefer Wert) und falschen Negativen (hoher Wert) – was ist schlimmer?\n",
    "- `STOP_TIMEOUT` Wie lange das Auto bei einem Stoppschild hält. Ändere diesen Wert nicht, sonst zählt deine Fahrt an der Challenge nicht!\n",
    "- `STOP_TIME_BUFFER` Wie lange das Auto nach einem Stoppschild weitere Stoppschilder ignoriert (damit es nicht für immer stehen bleibt).\n",
    "\n",
    "Kopiere das file aus diesem Ordner auf den Stick und von dort auf das Auto."
   ]
  }
 ],
 "metadata": {
  "kernelspec": {
   "display_name": "Python 3",
   "language": "python",
   "name": "python3"
  },
  "language_info": {
   "codemirror_mode": {
    "name": "ipython",
    "version": 2
   },
   "file_extension": ".py",
   "mimetype": "text/x-python",
   "name": "python",
   "nbconvert_exporter": "python",
   "pygments_lexer": "ipython2",
   "version": "2.7.6"
  }
 },
 "nbformat": 4,
 "nbformat_minor": 5
}
