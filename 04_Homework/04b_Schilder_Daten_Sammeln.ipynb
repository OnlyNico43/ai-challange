{
 "cells": [
  {
   "cell_type": "markdown",
   "id": "673428561b1a20b7",
   "metadata": {},
   "source": [
    "## Daten Sammeln\n",
    "\n",
    "⚠️ **Ihr müsst die gelösten Aufgaben eurem Coach abgeben, damit sie bewertet werden.** ⚠️\n",
    "\n",
    "Wie beim Fahrmodell müssen wir auch für das Schild-Modell Daten sammeln. Folgend einige Tipps:\n",
    "- Die Aufnahme nicht lange laufen lassen (weniger Daten zum labeln und schnellerer transfer)\n",
    "- Weniger Aufnahmen mit diversen Hintergründen (Ort, Szene, Licht, Perspektive, usw.) sind besser als 10 mal das\n",
    "gleiche\n",
    "Schild am gleichen Ort.\n",
    "- Pro Aufnahme nur eine Art Schild (z.B. nur Stoppschilder) machen das labeln einfacher.\n",
    "- Das Auto muss nicht immer fahren, man kann es auch in der Hand halten und die Schilder so aufnehmen.\n",
    "- Etwa gleich viele Aufnahmen von allen Schildern machen.\n",
    "- NoSign, also leere Hintergründe ohne Schild nicht vergessen. Am besten gleich an jedem Ort an dem Schilder\n",
    "aufgenommen werden noch einige Bilder des Hintergrunds machen.\n",
    "\n",
    "**Benötigtes Material:**\n",
    "- Je ein `Stop`, `50` und `Clear` Schild\n",
    "- Fahrzeug mit geladener Power-Bank\n",
    "- Fernsteuerung mit vollen Batterien\n",
    "- USB-Stick\n",
    "\n",
    "## Daten Labeln\n",
    "Damit das Modell von den gesammelten Bildern lernen kann, müssen wir ihm mitteilen welche Bilder welche Klasse\n",
    "(Schild) haben. Das Ziel ist es 4 Ordner (StopSign, 50Sign, ClearSign und NoSign) zu haben. Um den Prozess schneller\n",
    "zu machen kannst du unser [Labeling-Tool](https://ifsoftware.gitlab.io/ai-challenge/labeling-app/) verwenden.\n",
    "Definiere als erstes die 4 Klassen und labele dann die Bilder mit den entsprechenden Hotkeys.\n",
    "Tipps zum Labeln:\n",
    "- Mit der Leertaste oder den Pfeiltasten kannst du Bilder überspringen. Nutze das, es muss nicht jedes Bild eine\n",
    "Klasse haben.\n",
    "- Es ist besser etwas weniger Bilder zu haben als zweideutige. Lass Bilder mit abgeschnittenen Schilder also lieber\n",
    "weg (keine Klasse).\n",
    "- Labele keine Bilder auf denen mehr als ein Bild sichtbar ist.\n",
    "- Überspringe Bilder auf denen du selber das Schild nicht genau erkennen kannst.\n",
    "- Nicht zu viele Bilder in einem Ordner öffnen (das labeling tool wird langsam)\n",
    "\n",
    "### Datenset\n",
    "Erstellt aus den gelableten Daten einen Ordner mit den vier Unterordner pro Klasse. Startet mit einigen hundert\n",
    "gelabelten Bildern und schaut wie sich euer Modell verhält. Sammelt anschliessend iterativ mehr Daten.\n",
    "\n",
    "Ordner-Struktur im Jupyter:\n",
    "```\n",
    "data\n",
    "└── phase-1\n",
    "    ├── 50Sign\n",
    "    ├── ClearSign\n",
    "    ├── StopSign\n",
    "    └── NoSign\n",
    "└── phase-2\n",
    "    ├── ...\n",
    "```"
   ]
  },
  {
   "cell_type": "markdown",
   "id": "e6bb0210e81f8b19",
   "metadata": {},
   "source": [
    "### 📝 Aufgabe 4.1\n",
    "- Sammelt und labelt im Team mindestens 5'000 Bilder\n",
    "- Die Daten müssen balanciert sein (alle Klassen etwa gleich viel)"
   ]
  },
  {
   "cell_type": "markdown",
   "id": "aa1b6e5762411c99",
   "metadata": {},
   "source": [
    "## Synthetische Daten\n",
    "Trainiert nun euer Modell einmal mit den gesammelten Daten. Wahrscheinlich sind die 5'000 Bilder nicht ausreichend für ein gutes Modell. Ihr dürft gerne noch weitere Bilder sammeln, ihr könnt aber auch versuchen Synthetische (künstliche) Daten zu generieren. Damit könnt ihr eure gesammelten Bilder erweitern, ohne nochmals so viel Zeit in das Datensammeln zu investieren. Aber Achtung: Oft sind Synthetische Daten nicht ganz so divers und realitätsnah wie \"echte\" Daten. Probiert verschiedene Kombinationen aus und vergleicht die Performance des trainierten Modells.\n",
    "\n",
    "### Anleitung Skript\n",
    "Das Python Skript befindet sich im Ordner \"synthetic_data_generation\". Es generiert anhand einer Sammlung von Hintergründen (`NoSign`) eine gewünschte Anzahl von Trainingsbildern mit label. Es benötigt folgende Argumente:\n",
    "- `-i` Input Ordner - Der Ordner mit den Hintergründen (`NoSign`)\n",
    "- `-o` Output Ordner - Der Pfad zu einem Ordner in den die generierten Bilder gespeichert werden.\n",
    "- `-t` Total - Die Anzahl Bilder die generiert werden soll.\n",
    "\n",
    " Benutzt folgenden Befehl (tauscht die Argumente aus) in der Konsole um das Skript auszuführen: \\\n",
    " `python 04_Homework/synthetic_data_generation/generate.py -i data/backgrounds -o 04_Homework/gen-output/ -t 1000`\n",
    "\n",
    "### Hinweise\n",
    "Die Qualität der künstlich erstellten Daten ist stark von den Input-Bildern abhängig. Die Hintergründe müssen möglichst divers sein. Dazu kommt dass das Verhältniss zwischen Hintergründen und der Anzahl generierter Daten (Total) nicht zu gross sein darf da sich die Hintergründe nicht zu oft wiederholen dürfen."
   ]
  },
  {
   "metadata": {},
   "cell_type": "code",
   "outputs": [],
   "execution_count": null,
   "source": "",
   "id": "bed20e3a53048382"
  }
 ],
 "metadata": {
  "kernelspec": {
   "display_name": "Python 3",
   "language": "python",
   "name": "python3"
  },
  "language_info": {
   "codemirror_mode": {
    "name": "ipython",
    "version": 2
   },
   "file_extension": ".py",
   "mimetype": "text/x-python",
   "name": "python",
   "nbconvert_exporter": "python",
   "pygments_lexer": "ipython2",
   "version": "2.7.6"
  }
 },
 "nbformat": 4,
 "nbformat_minor": 5
}
