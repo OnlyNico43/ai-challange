{
 "cells": [
  {
   "metadata": {},
   "cell_type": "markdown",
   "source": [
    "# Schilder Modell\n",
    "Nach dem wir nun ein Fahrmodell haben welches der Linie folgt ist die nächste Aufgabe das Erkennen der\n",
    "Strassenschilder. Dazu trainieren wir ein zweites Machine-Learning-Modell.\n",
    "\n",
    "### Vorgehen\n",
    "- Schilder-Daten sammeln und labeln\n",
    "- Dataloader erstellen mit augmentationen\n",
    "- Synthetische Daten erstellen\n",
    "- Analyse-Funktionen schreiben um die trainierten Modelle auszuwerten und zu vergleichen\n",
    "- Modell erstellen und trainieren\n",
    "- Modell trainieren\n",
    "\n",
    "### Klassifikation\n",
    "Das Fahrmodell ist ein Regressionsmodell welches Winkel und Geschwindigkeit voraussagt. Nun wollen wir nicht mehr\n",
    " numerische Werte vorhersagen sondern Kategorien, auch Klassen genannt. Aufgebaut ist das Modell ähnlich: Es sucht\n",
    " Muster und setzt diese über mehrere Layern zu komplexeren Features zusammen um damit verschiedene Strassenschilder\n",
    " erkennen zu können. Der Output des Modells kannst du dir so vorstellen:\n",
    "\n",
    "| **Schild**         | **Wahrscheinlichkeit** |\n",
    "|:-------------------|------------------------|\n",
    "| Stop Schild:       | 0.8                    |\n",
    "| 50er Schild:       | 0.1                    |\n",
    "| Aufgehoben Schild: | 0.06                   |\n",
    "| Kein Schild:       | 0.04                   |\n",
    "\n",
    "Die Klassen sind von der Entwickler:in definiert. Wichtig: Die Klasse \"Kein Schild\" muss vorhanden sein, nicht nur\n",
    "die Schilder welche wir detektieren wollen. Oft sieht das Modell ja ein Bild auf dem kein Schild zu sehen ist.\n",
    "\n",
    "### Ziel\n",
    "An der Challenge wird es folgende Schilder geben:\n",
    "\n",
    "<!--\n",
    "\n",
    "| **Schild**        | **Label**  | **Bedeutung**                                                     | **Bild**                                    |\n",
    "|:------------------|:-----------|:------------------------------------------------------------------|---------------------------------------------|\n",
    "| Stop Schild       | StopSign   | Das Auto muss für mindestens 3 Sekunden komplett still stehen     | ![image.png](../assets/signs/StopSign.png)  |\n",
    "| 50er Schild       | 50Sign     | Das Auto darf ab dieser Tafel nicht schneller als 50cm/min fahren | ![image.png](../assets/signs/50Sign.png)    |\n",
    "| Aufgehoben Schild | ClearSign  | Das Auto darf ab dieser Tafel wieder beliebig schnell fahren      | ![image.png](../assets/signs/ClearSign.png) |\n",
    "-->\n",
    "\n",
    "![image.png](../assets/signs/StopSign.png)\\\n",
    "**Stop Schild**\\\n",
    "Label: StopSign\\\n",
    "Bedeutung: Das Auto muss für mindestens 3 Sekunden komplett still stehen\n",
    "\n",
    "![image.png](../assets/signs/50Sign.png)\\\n",
    "**50er Schild**\\\n",
    "Label: 50Sign\\\n",
    "Bedeutung: Das Auto darf ab dieser Tafel nicht schneller als 50cm/min fahren\n",
    "\n",
    "![image.png](../assets/signs/ClearSign.png)\\\n",
    "**Aufgehoben Schild**\\\n",
    "Label: ClearSign\\\n",
    "Das Auto darf ab dieser Tafel wieder beliebig schnell fahren\n",
    "\n",
    "Das Auto soll anhand des Kamerabildes die Schilder erkennen und entsprechend reagieren."
   ],
   "id": "eda8de6da6fafcac"
  }
 ],
 "metadata": {
  "kernelspec": {
   "display_name": "Python 3",
   "language": "python",
   "name": "python3"
  },
  "language_info": {
   "codemirror_mode": {
    "name": "ipython",
    "version": 2
   },
   "file_extension": ".py",
   "mimetype": "text/x-python",
   "name": "python",
   "nbconvert_exporter": "python",
   "pygments_lexer": "ipython2",
   "version": "2.7.6"
  }
 },
 "nbformat": 4,
 "nbformat_minor": 5
}
