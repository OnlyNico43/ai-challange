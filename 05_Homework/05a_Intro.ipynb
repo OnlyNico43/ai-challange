{
 "cells": [
  {
   "attachments": {},
   "cell_type": "markdown",
   "metadata": {},
   "source": [
    "# Modelle verbessern\n",
    "Nun rückt die Abschluss-Challenge immer näher...\n",
    "In dieser Woche könnt ihr eure Modelle optimieren damit Sie an der AI-Challenge optimal funktionieren.\n",
    "\n",
    "## Fahrmodell\n",
    "Letzte Verbesserungen am Fahrmodell, siehe Woche 4\n",
    "\n",
    "## Verkehrsschildererkennung\n",
    "Wie gut ist das Schilder-Modell? Achte auf folgende Punkte und Tipps\n",
    "- Teste dein Modell mit ähnlichen Objekten. Zum Beispiel ein roter Flaschendeckel oder ein schwarzer Balken, kann es mit solchen Situation umgehen?\n",
    "- Finde den optimalen \"Threshold\" für das Modell durch experimentieren.\n"
   ]
  }
 ],
 "metadata": {
  "language_info": {
   "name": "python"
  },
  "orig_nbformat": 4
 },
 "nbformat": 4,
 "nbformat_minor": 2
}
