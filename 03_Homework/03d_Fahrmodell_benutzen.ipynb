{
 "cells": [
  {
   "cell_type": "markdown",
   "id": "11afed6e-38ec-4dde-9b76-aa5343ac1d7e",
   "metadata": {
    "id": "11afed6e-38ec-4dde-9b76-aa5343ac1d7e",
    "pycharm": {
     "name": "#%% md\n"
    }
   },
   "source": [
    "# Fahrmodell benutzen\n",
    "\n",
    "⚠️ **In diesem Notebook befinden Aufgaben. Ihr müsst die gelösten Aufgaben eurem Coach abgeben, damit sie bewertet werden.** ⚠️\n",
    "\n",
    "Um das Fahrmodell auf dem Auto laufen lassen zu können, müssen wir es zusammen mit dem `prediction.py` Datei aufs Auto laden. Dazu erstellen wir auf dem Memorystick einen Ordner `models` und kopieren beide Dateien hinein.\n",
    "\n",
    "```\n",
    "Memory-Stick/\n",
    "    └── models/\n",
    "        ├── model_xyz.onnx\n",
    "        └── prediction.py\n",
    "    └── logs/\n",
    "    └── recordings/\n",
    "```\n",
    "\n",
    "#### Funktionen\n",
    "Die `prediction.py` Datei wird von der Software benötigt, welche auf dem Auto läuft. Sie ist dazu da, das Modell zu laden und laufen zu lassen. Die beiden wichtigsten Funktionen sind:\n",
    "\n",
    "**1.** `load(model_dir: str) -> CompiledModel`\n",
    "\n",
    "Diese Funktion wird auf dem Auto zuerst ausgeführt und soll das Modell laden und das geladene Modell zurückgeben\n",
    "\n",
    "**2.** `step(img: Image, model: CompiledModel) -> Prediction`\n",
    "\n",
    "Diese Funktion wird während des Selbstfahrens ausgeführt, es bekommt ein Bild und das Model und soll einen Tupel `(angle, speed)` zurückgeben.\n",
    "\n",
    "#### Parameter\n",
    "Mit dem `SPEED` Parameter kannst du steuern wie viel Prozent von der Motorenleistung genutzt wird, also wie schnell das Auto fährt. Beginne mit einer tiefen Zahl und erhöhe Sie wenn dein Auto gut der Linie folgen kann."
   ]
  },
  {
   "cell_type": "markdown",
   "id": "2f451cc5",
   "metadata": {},
   "source": [
    "## Aufgabe 3.6\n",
    "\n",
    "Nun gilt es unsere Trainiertes Modell in der Praxis auszuprobieren. Benützte als ersten eine Bahn, welche auch in den Trainingsdaten vorhanden ist. Wenn das klappt, kannst du das Auto auch auf neuen Bahnen fahren lassen, um zu sehen, wie gut es mit noch nicht gesehenen Bahnen zurechtkommt.\n",
    "\n",
    "- Lade das `prediction.py` Skript herunter und schaue hinein. Versuche zu verstehen, was es macht und warum (wichtig für spätere Wochen!)\n",
    "- Passe den Namen des Modells im Skript an, sodass er mit dem Namen deines Modells übereinstimmt.\n",
    "- Kopiere die `prediction.py` Datei zusammen mit eurem Modell (onnx file) auf den Memorystick in einen Ordner `models`\n",
    "- Probiere aus, ob du ihn im Auto laden kannst und ob das Auto fährt.\n",
    "  - Tipp: Wenn es zu Probleme kommt, kannst du in den Logs nachschauen, was fehlgeschlagen hat. Erstelle dazu einen Ordner `logs` auf dem Memorystick und mache dasselbe wie beim Fahrdaten speichern.\n",
    "\n",
    "### 📝 Aufgabe: Video\n",
    "Nimm ein Video auf, wo man sieht, wie das Auto selbständig eine Bahn abfährt und zeige es eurem Betreuer in eurem Meeting"
   ]
  }
 ],
 "metadata": {
  "accelerator": "GPU",
  "colab": {
   "gpuType": "T4",
   "provenance": []
  },
  "kernelspec": {
   "display_name": "Python 3",
   "name": "python3"
  },
  "language_info": {
   "codemirror_mode": {
    "name": "ipython",
    "version": 3
   },
   "file_extension": ".py",
   "mimetype": "text/x-python",
   "name": "python",
   "nbconvert_exporter": "python",
   "pygments_lexer": "ipython3",
   "version": "3.11.9"
  }
 },
 "nbformat": 4,
 "nbformat_minor": 5
}
