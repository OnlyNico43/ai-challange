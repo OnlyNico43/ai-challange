{
 "cells": [
  {
   "attachments": {},
   "cell_type": "markdown",
   "metadata": {},
   "source": [
    "# Fahrmodell trainieren\n",
    "\n",
    "In dieser Woche, werden wir unser Fahrmodell trainieren, welches dann in der Zwischen-Challenge benötigt wird\n",
    "\n",
    "**Ziele/Checkliste:**\n",
    "\n",
    "- Eigene Bahnen fürs Auto erstellen\n",
    "- Fahrdaten mit den Auto aufnehmen und auf PC überspielen\n",
    "- Fahrdaten auf Google Drive laden\n",
    "- Fahrmodell erfolgreich trainieren\n",
    "- Fahrmodell exportieren und auf Auto laufen lassen\n",
    "- Verstehen, was im `predict.py` passiert\n",
    "- Verstehen, was Data Augmentation ist"
   ]
  }
 ],
 "metadata": {
  "language_info": {
   "name": "python"
  },
  "orig_nbformat": 4
 },
 "nbformat": 4,
 "nbformat_minor": 2
}
