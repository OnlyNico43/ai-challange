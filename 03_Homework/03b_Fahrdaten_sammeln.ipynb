{
 "cells": [
  {
   "cell_type": "markdown",
   "metadata": {},
   "source": [
    "# Trainingsdaten für autonomes Fahren sammeln\n",
    "\n",
    "In dieser Woche werden wir ein Modell trainieren, welches autonom Fahren kann.\n",
    "\n",
    "⚠️ **In diesem Notebook befinden sich Aufgaben. Ihr müsst die gelösten Aufgaben eurem Coach abgeben, damit sie bewertet werden.** ⚠️\n",
    "\n",
    "### Benötigtes Material\n",
    "- Blaues Klebeband\n",
    "- Fahrzeug mit geladener Power-Bank\n",
    "- Fernsteuerung mit vollen Batterien\n",
    "- USB-Stick\n",
    "\n",
    "### Ablauf\n",
    "1. Mit Klebeband auf möglichst ebener Strecke eine Rundbahn mit ein paar Kurven kleben\n",
    "2. Memory-Stick (mit `recordings` Ordner!) ins Auto stecken\n",
    "3. Ein paar Testrunden fahren (ohne Aufnahme). Dabei üben möglichst exakt der Linie zu fahren, ohne anzuhalten\n",
    "4. Zwei-drei Runde fahren und während dessen die Aufnahme starten. Wenn du anhältst, die Aufnahme sofort beenden\n",
    "   - So hast du keine Bilder am Anfang und am Ende wo das Auto stillsteht. Du kannst diese natürlich auch manuell löschen oder dir dafür eine Python-Script schreiben.\n",
    "   - Hinweis: Die Kamera nimmt mit 12 Frames-per-Second (fps) auf. Das heisst, du bekommst pro Minute Aufnahme 60*12=720 Bilder\n",
    "5. Aufnahmen auf den Memory-Stick speichern.\n",
    "6. Etwas an der Strecke ändern, z.B:\n",
    "   - In die Entgegengesetzte Richtung fahren\n",
    "   - Die Lichtverhältnisse ändern (andere Tageszeit, Rollläden öffnen schliessen, andere Lichtquelle)\n",
    "   - Die Bahn ändern (neu kleben)\n",
    "   - Den Untergrund und Hintergrund ändern (z.B. anderer Raum)\n",
    "   - Tipp: Es ist kontraproduktiv, mehr als drei Runden auf der gleichen Strecke und gleichen Bedingungen zu fahren. Du sammelst nur mehr von den gleichen Daten (längeres Training & Overfitting). Ein diverser Datensatz ist unabdingbar für ein gutes Modell.\n",
    "7. Speichere die Aufnahmen auf den USB-Stick und kopiere sie auf deinen Computer."
   ]
  },
  {
   "cell_type": "markdown",
   "metadata": {},
   "source": [
    "### 📝 Aufgabe 3.1\n",
    "Sammle genügend Daten unter verschiedenen Bedingungen:\n",
    "  - **Min. 5 verschiedene Aufnahmen von verschiedenen Situation**\n",
    "  - Pro Aufnahme ca. 1'000 Bilder, total ~5'000 Bilder\n",
    "\n",
    "Es dürfen auch mehr sein, aber für erste Training sollte das genügen. Je nachdem wie gut das Modell bereits fährt kannst du später noch weiter Daten sammeln."
   ]
  },
  {
   "cell_type": "markdown",
   "metadata": {},
   "source": [
    "## Die Fahrmodell verstehen\n",
    "\n",
    "#### Daten-Input (Fahrdaten)\n",
    "\n",
    "Die Daten, welche wir aufnehmen, bestehen jeweils aus einen **Bild (der Kamera**) und den **Fahrdaten als JSON**. Bei den Fahrdaten handelt es sich um den Einschlagwinkel (`angle`) und Geschwindigkeit (`speed`). Der Winkel liegt in einem Bereich von +/- 35° und der Speed zwischen 0-100%\n",
    "\n",
    "#### Model und Output\n",
    "\n",
    "Aus den Eingabebildern muss unser Netzwerk lernen, den Einschlagswinkel der Lenkung (`angle`) vorherzusagen (den Speed können wir manuell setzten). Der Winkel ist also unser \"Label\".\n",
    "\n",
    "Anders als beim Notebook von letzter Woche (Klassifikation von Ziffern) handelt es sich dabei aber um ein Regressions-Problem. Wir werden also unser Wissen aus der ersten Woche (Regression) und mit Bilderkennung (CNN Convolution Neuronal Network) kombinieren.\n",
    "\n",
    "#### Model speichern\n",
    "\n",
    "Unser fertig trainiertes Model müssen wir exportieren und zusammen mit einem passenden Python-Script (`prediction.py`) auf dem Auto laufen lassen. In den Notebooks wird erklärt, wie das funktioniert.\n",
    "\n",
    "#### Zusammenfassung\n",
    "\n",
    "Der komplette Ablauf sieht so aus:\n",
    "\n",
    "![Diagramm_autonomes_Fahren](../assets/Diagramm_autonomes_Fahren.png)"
   ]
  }
 ],
 "metadata": {
  "kernelspec": {
   "display_name": ".venv",
   "language": "python",
   "name": "python3"
  },
  "language_info": {
   "name": "python",
   "version": "3.11.9"
  },
  "orig_nbformat": 4
 },
 "nbformat": 4,
 "nbformat_minor": 2
}
