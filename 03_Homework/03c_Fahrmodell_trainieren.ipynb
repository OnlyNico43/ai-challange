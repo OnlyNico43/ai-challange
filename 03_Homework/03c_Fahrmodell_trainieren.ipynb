{
 "cells": [
  {
   "cell_type": "markdown",
   "id": "11afed6e-38ec-4dde-9b76-aa5343ac1d7e",
   "metadata": {
    "id": "11afed6e-38ec-4dde-9b76-aa5343ac1d7e",
    "pycharm": {
     "name": "#%% md\n"
    }
   },
   "source": [
    "# Fahrmodell trainieren\n",
    "\n",
    "In diesem Notebook werden wir unser Fahrmodell für das selbständige Fahren trainieren.\n",
    "\n",
    "Du wirst hier viele Gemeinsamkeiten zur Bilderkennung von letzter Woche sehen, aber auch einige Unterschiede.\n",
    "\n",
    "Überlege dir nochmals, was wir als Input benötigen und was unser Output *\"Label\"* ist. Also was das Modell vorhersagen soll.\n",
    "\n",
    "⚠️ **In diesem Notebook befinden Aufgaben. Ihr müsst die gelösten Aufgaben eurem Coach abgeben, damit sie bewertet werden.** ⚠️"
   ]
  },
  {
   "cell_type": "markdown",
   "id": "1783b6495c811703",
   "metadata": {},
   "source": [
    "Zu Beginn importieren wir einige Packages und testen ob eine GPU zur verfügung steht:"
   ]
  },
  {
   "cell_type": "code",
   "execution_count": null,
   "id": "08ae75c1-c131-4f74-8976-bdf9846702bd",
   "metadata": {
    "id": "08ae75c1-c131-4f74-8976-bdf9846702bd",
    "pycharm": {
     "name": "#%%\n"
    }
   },
   "outputs": [],
   "source": [
    "from pathlib import Path\n",
    "import json\n",
    "from collections import OrderedDict\n",
    "import random\n",
    "\n",
    "from pytorch_lightning import Trainer\n",
    "from pytorch_lightning.callbacks import ModelSummary\n",
    "from PIL import Image\n",
    "import torch\n",
    "from torch import nn\n",
    "from torch.utils.data import DataLoader\n",
    "import numpy as np\n",
    "import matplotlib.pyplot as plt\n",
    "\n",
    "from aic.drive.model import LightningDriveModel\n",
    "from aic.logger import DictLogger\n",
    "from aic.runs import create_run_dir\n",
    "from aic.helpers import disable_warnings\n",
    "disable_warnings()\n",
    "\n",
    "print(f'GPU (Cuda) is available: {torch.cuda.is_available()}')\n",
    "device = torch.device('cuda') if torch.cuda.is_available() else torch.device('mps') if torch.mps.is_available() else torch.device('cpu')\n",
    "print(f'Using device: {device}')"
   ]
  },
  {
   "cell_type": "markdown",
   "id": "d9688709",
   "metadata": {
    "id": "d9688709"
   },
   "source": [
    "## Daten laden\n",
    "\n",
    "Die aufgenommen Fahrdaten werden eingelesen"
   ]
  },
  {
   "cell_type": "markdown",
   "id": "1b1e6de1",
   "metadata": {},
   "source": [
    "### Daten laden\n",
    "Um die Daten laden zu können benötigen wir einige Hilfsfunktionen. Die erste ist eine Funktion um alle Bilder im Ordner zu finden und als Pfade zurückzugeben:"
   ]
  },
  {
   "cell_type": "code",
   "execution_count": null,
   "id": "ef937c0c",
   "metadata": {},
   "outputs": [],
   "source": [
    "def get_image_paths(path: Path) -> list:\n",
    "    return list(sorted(path.glob('**/*.jpg')))"
   ]
  },
  {
   "cell_type": "markdown",
   "id": "b7225be2",
   "metadata": {},
   "source": [
    "### 📝 Aufgabe 3.2\n",
    "Die nächste Funktion liest die Daten für Lenkung und Geschwindigkeit aus dem zum Bild gehörenden JSON-File heraus. Erstelle eine Funktion, die für jedes Bild `angle` und `speed` zurückgibt.\n",
    "\n",
    "- Als Eingabe erhält die Funktion einen Bild-Pfad, z.B. `recordings/01/01.jpg`\n",
    "- Die JSON-Datei hat den gleichen Pfad, einfach mit der Endung `.json` anstatt `.jpg`\n",
    "- Die Funktion gibt ein Tuple `(angle, speed)` mit den Werten als `float` zurück."
   ]
  },
  {
   "cell_type": "code",
   "execution_count": null,
   "id": "0f54d309",
   "metadata": {
    "id": "0f54d309"
   },
   "outputs": [],
   "source": [
    "# 📝 Programmiere die Funktion:\n",
    "def read_data_from_json(image_path: str | Path) -> tuple[float, float]:\n",
    "    pass"
   ]
  },
  {
   "cell_type": "markdown",
   "id": "2662f04adf99baa1",
   "metadata": {},
   "source": [
    "Um deinen Code zu überprüfen kannst du folgende Tests ausführen:"
   ]
  },
  {
   "cell_type": "code",
   "execution_count": null,
   "id": "ac33c788",
   "metadata": {},
   "outputs": [],
   "source": [
    "# Arrange\n",
    "import tempfile\n",
    "p = Path(tempfile.gettempdir()) / 'test1-3'; p.mkdir(exist_ok=True)\n",
    "img_path = p / 'test_01.jpg'\n",
    "img_path.touch()\n",
    "json_path = p / 'test_01.json'\n",
    "json_path.write_text('{\"angle\": 17.805982737, \"speed\": 31}')\n",
    "\n",
    "# Test\n",
    "ret = read_data_from_json(str(img_path))\n",
    "assert isinstance(ret, tuple), f'Die Funktion sollte ein Tuple zurückgeben, aber gibt {type(ret)} zurück'\n",
    "assert len(ret) == 2, f'Das Tuple sollte genau 2 Elemente enthalten, aber enthält {len(ret)} Elemente'\n",
    "assert all(isinstance(x, float) for x in ret), f'Die Elemente des Tuples sollten Zahlen von Typ float sein'\n",
    "assert ret == (17.805982737, 31), f'Die Funktion sollte (17.805982737, 31.0) zurückgeben, gibt aber {ret} zurück'\n",
    "\n",
    "# Cleanup\n",
    "img_path.unlink()\n",
    "print('Die Funktion funktioniert 👍')"
   ]
  },
  {
   "cell_type": "markdown",
   "id": "df86de146d1ed5aa",
   "metadata": {},
   "source": [
    "Nun können wir die Bilder laden."
   ]
  },
  {
   "cell_type": "code",
   "execution_count": null,
   "id": "7e8923cb06778a20",
   "metadata": {},
   "outputs": [],
   "source": [
    "image_dir_path = Path('../data/drive-1/')\n",
    "\n",
    "# Sollte der Pfad nicht existieren, wird hier eine Fehlermeldung ausgegeben\n",
    "if not image_dir_path.exists():\n",
    "    raise Exception(f\"Fehler: Der Pfad {image_dir_path} existiert nicht 🛑\")\n",
    "else:\n",
    "    print(f\"Der Pfad {image_dir_path} wurde gefunden 👍\")"
   ]
  },
  {
   "cell_type": "code",
   "execution_count": null,
   "id": "1c6b8a57",
   "metadata": {
    "colab": {
     "base_uri": "https://localhost:8080/",
     "height": 379
    },
    "id": "1c6b8a57",
    "jupyter": {
     "outputs_hidden": false
    },
    "outputId": "1dc5787c-63d2-4a96-9ef7-6fcd6155b6db",
    "pycharm": {
     "name": "#%%\n"
    }
   },
   "outputs": [],
   "source": [
    "# alle Bildpfade laden\n",
    "image_paths = get_image_paths(image_dir_path)\n",
    "assert len(image_paths) > 0, \"Keine Bilder gefunden\"\n",
    "print(f\"Es wurden {len(image_paths)} Bilder gefunden\")\n",
    "\n",
    "# der erste Pfad auswählen und ausgeben (wenn du einen anderen willst, ändere den Index)\n",
    "some_image_path = image_paths[42]\n",
    "print('Beispielbild:', some_image_path)\n",
    "\n",
    "# Bild laden und anzeigen\n",
    "img = Image.open(some_image_path)\n",
    "print(f\"Größe des Bildes (BxH): {img.size}\")\n",
    "display(img)\n",
    "\n",
    "# Dazugehörige Daten für Lenkung und Geschwindigkeit ausgeben\n",
    "angle, speed = read_data_from_json(some_image_path)\n",
    "print(f\"Geschwindigkeit {speed:.2f}, Lenkung: {angle:.2f}\")"
   ]
  },
  {
   "cell_type": "markdown",
   "id": "324c2c0d",
   "metadata": {
    "id": "324c2c0d"
   },
   "source": [
    "### Daten betrachten\n",
    "\n",
    "Wir können uns nun die Daten betrachten, auf welche wir Trainieren wollen. In diesem Schritt können wir schädliche Daten erkennen und entfernen\n",
    "\n",
    "*Wichtig*: Wenn du hier unlogische Daten hast, dann entferne diese Abschnitte aus den Trainingsdaten. Beispiel hierfür sind:\n",
    "- Minus-Geschwindigkeit (unser Modell soll nie rückwärts fahren)\n",
    "- Längere Abschnitte mit Null-Geschwindigkeit (unser Fahrmodell soll nie anhalten)\n",
    "- Wenn der Durchschnitt der Lenkung um 0 herum ist, heisst das, dass du vermutlich gleichviel Links- wie Rechtskurven in den Daten hast\n",
    "\n",
    "**Dein Modell kann nur so gut sein wie die Daten mit denen du es trainiertes!**"
   ]
  },
  {
   "cell_type": "markdown",
   "id": "f4ed6caee9076bf3",
   "metadata": {},
   "source": [
    "Wir können uns alle Fahrdaten als Diagramm betrachten und einige Kennzahlen ermitteln.\n",
    "\n",
    "*Hineweis: Das auslesen der Daten kann eine Weile dauern.*"
   ]
  },
  {
   "cell_type": "code",
   "execution_count": null,
   "id": "cbce8cc3",
   "metadata": {
    "colab": {
     "base_uri": "https://localhost:8080/"
    },
    "id": "cbce8cc3",
    "jupyter": {
     "outputs_hidden": false
    },
    "outputId": "377949a7-9494-4625-ccbc-5b9bdab41bc8",
    "pycharm": {
     "name": "#%%\n"
    }
   },
   "outputs": [],
   "source": [
    "%%time\n",
    "from multiprocessing.pool import ThreadPool\n",
    "with ThreadPool(20) as pool:\n",
    "  vehicle_data = np.array(pool.map(read_data_from_json, image_paths))\n",
    "all_angles = vehicle_data[:,0]\n",
    "all_speeds = vehicle_data[:,1]\n",
    "\n",
    "print(f\"Kennzahlen zu Lenkung: min={all_angles.min():.2f}, max: {all_angles.max():.2f}, Durchschnitt: {all_angles.mean():.2f}\")\n",
    "print(f\"Kennzahlen zu Geschwindigkeit: min={all_speeds.min():.2f}, max: {all_speeds.max():.2f}, Durchschnitt: {all_speeds.mean():.2f}\")"
   ]
  },
  {
   "cell_type": "markdown",
   "id": "48f9a997af11b21b",
   "metadata": {},
   "source": [
    "Als nächstes plotten wir den Winkel und die Geschwindigkeit über die Zeit:"
   ]
  },
  {
   "cell_type": "code",
   "execution_count": null,
   "id": "48PCnEPW6lgE",
   "metadata": {
    "colab": {
     "base_uri": "https://localhost:8080/",
     "height": 699
    },
    "id": "48PCnEPW6lgE",
    "outputId": "f0440ce1-876a-4cd5-ade4-cb36573ff93b"
   },
   "outputs": [],
   "source": [
    "import matplotlib.style as mplstyle\n",
    "mplstyle.use('fast')\n",
    "fig, (ax1, ax2) = plt.subplots(2,figsize=(10, 8))\n",
    "ax1.plot(all_angles)\n",
    "ax1.set_title(\"Angle\")\n",
    "ax1.minorticks_on()\n",
    "ax2.plot(all_speeds)\n",
    "ax2.set_title(\"Speed\")\n",
    "ax2.minorticks_on()"
   ]
  },
  {
   "cell_type": "markdown",
   "id": "4be0f0e6",
   "metadata": {},
   "source": [
    "### Data Augmentation\n",
    "Beim trainieren von Machine-Learning-Modellen sind die Trainingsdaten oft der Hauptfaktor, ob das Modell das gewünschte Wissen lernt oder nicht. Gleichzeitig ist das sammeln von Daten Zeitaufwändig. Um aus einer begrenzten Menge Daten mehr zu machen, verwenden wir Augmentation. Augmentation heisst \"Erweiterung\". Ziel ist es dabei unsere Bilder leicht zu verändern, um so mehr Trainingsdaten zu erhalten, ohne tatsächlich mehr Bilder aufzunehmen. Augmentation bei Bildern kann z.B. die Helligkeit und Kontrast verändern, oder das Bild leicht drehen oder vergrössern.\n",
    "\n",
    "All das hilft, dass unsere AI nicht die Trainingsdaten auswendig lernt (Overfitting), sondern lernt zu \"generalisieren\". Also anstatt, dass die AI lernt *\"wenn der 7 Pixel von Links Blau ist...\"*, soll die AI lernen *\"wenn ich eine Form erkenne, die wie eine Linkskurve aussieht...\"*.\n",
    "\n",
    "Du kannst [hier](https://www.arocom.de/fachbegriffe/kuenstliche-intelligenz/datenaugmentierung) mehr über Data Augmentation nachlesen und dir [hier](https://pytorch.org/vision/main/auto_examples/transforms/plot_transforms_getting_started.html#sphx-glr-auto-examples-transforms-plot-transforms-getting-started-py) die Data Augmentation Funktionen von PyTorch ansehen. **Eine schöne Übersicht** über die in PyTorch enthaltenen Augmentation-Funktionen findest du [hier](https://pytorch.org/vision/2.0/auto_examples/plot_transforms.html#sphx-glr-auto-examples-plot-transforms-py).\n",
    "\n",
    "Für erste werden wir mit der Helligkeit und Farbe im Bild augmentieren, damit unser Modell auch zurechtkommt, wenn die Lichtverhältnisse leicht anders sind als im Training. Später (siehe zusätzliche Aufgaben) kannst du auch eigene Augmentations vornehmen."
   ]
  },
  {
   "cell_type": "code",
   "execution_count": null,
   "id": "e543b01c",
   "metadata": {},
   "outputs": [],
   "source": [
    "from torchvision.transforms import v2\n",
    "\n",
    "transformer = v2.Compose(\n",
    "    [\n",
    "        # Helligkeit, Kontrast, Sättigung und Farbton werden zufällig bis zum angegeben Wert geändert\n",
    "        # Du kannst die Werte anpassen, wenn du willst (siehe Zusatzaufgabe)\n",
    "        v2.ColorJitter(\n",
    "            brightness=0.5,\n",
    "            saturation=0.2,\n",
    "            hue=0.1,\n",
    "        ),\n",
    "        # Platz für weitere Transformationen (siehe Zusatzaufgabe)\n",
    "    ]\n",
    ")"
   ]
  },
  {
   "cell_type": "code",
   "execution_count": null,
   "id": "419810b4",
   "metadata": {},
   "outputs": [],
   "source": [
    "# Sehen wir uns an, was die Augmentation mit dem Bild macht\n",
    "# (da die Transformation zufällig ist, kannst du die Zelle mehrmals ausführen um verschiedene Ergebnisse zu sehen)\n",
    "\n",
    "# Wir verwenden unser Beispiel-Bild von weiter oben\n",
    "fig, axs = plt.subplots(1, 4, figsize=(3*4, 3))\n",
    "for i, ax in enumerate(axs):\n",
    "    # Zuerst das Originalbild\n",
    "    if i == 0:\n",
    "        ax.imshow(img)\n",
    "        ax.set_title(\"Original\")\n",
    "        ax.axis('off')\n",
    "        continue\n",
    "    # Danach 3 zusätzlich augmentierte Bilder\n",
    "    else:\n",
    "        augmented_img = transformer(img)\n",
    "        ax.imshow(augmented_img)\n",
    "        ax.set_title(f\"Augmented {i}\")\n",
    "        ax.axis('off')\n",
    "\n"
   ]
  },
  {
   "cell_type": "markdown",
   "id": "48b7123c",
   "metadata": {},
   "source": [
    "Unser Transformer werden wir anschliessend in im Trainings-Datenset einbauen."
   ]
  },
  {
   "cell_type": "markdown",
   "id": "49d8c099",
   "metadata": {
    "id": "49d8c099"
   },
   "source": [
    "### Datasets und Datenloader erstellen"
   ]
  },
  {
   "cell_type": "code",
   "execution_count": null,
   "id": "cf95af07",
   "metadata": {
    "id": "cf95af07",
    "jupyter": {
     "outputs_hidden": false
    },
    "pycharm": {
     "name": "#%%\n"
    }
   },
   "outputs": [],
   "source": [
    "from torch.utils.data import Dataset, DataLoader\n",
    "from torchvision.transforms.functional import pil_to_tensor\n",
    "\n",
    "class ImageDataset(Dataset):\n",
    "    def __init__(self, image_paths, transform=None):\n",
    "        self.image_paths = image_paths\n",
    "        self.transform = transform\n",
    "\n",
    "    def __len__(self):\n",
    "        return len(self.image_paths)\n",
    "\n",
    "    def __getitem__(self, idx):\n",
    "        path = self.image_paths[idx]\n",
    "        image = Image.open(path)\n",
    "        # Wir werden das Bild etwas verkleinern, um Rechenzeit zu sparen (es sind immer noch genügend Informationen im Bild vorhanden)\n",
    "        # Original ist das Bild BxH 320x240 Pixel gross, wir verkleinern es auf 16x120 Pixel\n",
    "        image = image.resize((160, 120), resample=Image.Resampling.NEAREST)\n",
    "        # Augmentation (wenn vorhanden)\n",
    "        if self.transform:\n",
    "            image = self.transform(image)\n",
    "        image_tensor = pil_to_tensor(image)\n",
    "        image_tensor = image_tensor / 255.0  # Normalization\n",
    "        angle, _ = read_data_from_json(path)\n",
    "        angle_tensor = torch.tensor(angle, dtype=torch.float32).unsqueeze(0)\n",
    "        return image_tensor, angle_tensor"
   ]
  },
  {
   "cell_type": "code",
   "execution_count": null,
   "id": "93310959",
   "metadata": {},
   "outputs": [],
   "source": [
    "import random\n",
    "\n",
    "# Wir werden 80% der Daten für das Training verwenden und 20% für das Validieren\n",
    "random.shuffle(image_paths)\n",
    "split_idx = int(len(image_paths) * 0.8)\n",
    "train_image_paths = image_paths[:split_idx]\n",
    "val_image_paths = image_paths[split_idx:]\n",
    "\n",
    "# Wichtig: Augmentation nur für das Trainingsset aktivieren!\n",
    "train_dataset = ImageDataset(train_image_paths, transform=transformer)\n",
    "val_dataset = ImageDataset(val_image_paths, transform=None)\n",
    "\n",
    "# Überprüfen wir mal die Grösse dieser Sets\n",
    "print(len(train_dataset), len(val_dataset))\n",
    "\n",
    "# Inhalt anschauen\n",
    "image, angle = train_dataset[0]\n",
    "print(image.shape, image.dtype, angle, angle.dtype)"
   ]
  },
  {
   "cell_type": "code",
   "execution_count": null,
   "id": "d64ec473",
   "metadata": {},
   "outputs": [],
   "source": [
    "# Erstellen der DataLoaders\n",
    "BATCH_SIZE = 128\n",
    "training_loader = torch.utils.data.DataLoader(\n",
    "    train_dataset,\n",
    "    batch_size=BATCH_SIZE,\n",
    "    shuffle=True,\n",
    "    num_workers=8\n",
    ")\n",
    "validation_loader = torch.utils.data.DataLoader(\n",
    "    val_dataset, batch_size=BATCH_SIZE, shuffle=False, num_workers=4\n",
    " \n",
    ")\n",
    " \n",
    "# Ein Batch aus dem DataLoader laden und dessen Shape anzeigen\n",
    "images, labels = next(iter(training_loader))\n",
    "print(f\"Input shape: {images.shape}\")\n",
    "print(f\"Output shape {labels.shape}\")"
   ]
  },
  {
   "cell_type": "markdown",
   "id": "6ff2d477",
   "metadata": {
    "id": "6ff2d477"
   },
   "source": [
    "## Model definieren & trainieren"
   ]
  },
  {
   "cell_type": "markdown",
   "id": "7b7674fd6aa8855e",
   "metadata": {},
   "source": [
    "Vor dem Training erstellen wir einen Ordner in den wir das Modell sowie die Auswertung speichern können:"
   ]
  },
  {
   "cell_type": "code",
   "execution_count": null,
   "id": "d8dc1413f6630747",
   "metadata": {},
   "outputs": [],
   "source": [
    "run_directory = create_run_dir('../runs/drive/')"
   ]
  },
  {
   "cell_type": "markdown",
   "id": "f6322140",
   "metadata": {
    "collapsed": false,
    "id": "f6322140",
    "jupyter": {
     "outputs_hidden": false
    },
    "pycharm": {
     "name": "#%% md\n"
    }
   },
   "source": [
    "### Model definieren\n",
    "\n",
    "Fürs Erste werden wir ein Neuronale Netzwerk vorgeben. Es besteht aus mehreren Schichten Convolutional Layers am Anfang und einem Dense Neuronal Netzwerk danach.\n",
    "\n",
    "(Du darfst das Netzwerk anpassen wenn du willst. Für den Anfang empfehlen wir aber mit dieser Architektur zu arbeiten.)"
   ]
  },
  {
   "cell_type": "code",
   "execution_count": null,
   "id": "b0992f1e148db20c",
   "metadata": {},
   "outputs": [],
   "source": [
    "class DriveModel(nn.Module):\n",
    "    def __init__(self, lr=0.001):\n",
    "        super().__init__()\n",
    "        self.lr = lr\n",
    "\n",
    "        self.layers = nn.Sequential(\n",
    "            OrderedDict(\n",
    "                conv1 = nn.Conv2d(3, 12, 5, stride=2, padding=1),\n",
    "                batch1 = nn.BatchNorm2d(12),\n",
    "                relu1 = nn.ReLU(),\n",
    "\n",
    "                conv2 = nn.Conv2d(12, 16, 5, stride=2, padding=1),\n",
    "                batch2 = nn.BatchNorm2d(16),\n",
    "                relu2 = nn.ReLU(),\n",
    "\n",
    "                conv3 = nn.Conv2d(16, 32, 5, stride=2, padding=1),\n",
    "                batch3 = nn.BatchNorm2d(32),\n",
    "                relu3 = nn.ReLU(),\n",
    "\n",
    "                conv4 = nn.Conv2d(32, 32, 3, stride=1, padding=1),\n",
    "                batch4 = nn.BatchNorm2d(32),\n",
    "                relu4 = nn.ReLU(),\n",
    "\n",
    "                conv5 = nn.Conv2d(32, 32, 3, stride=1, padding=1),\n",
    "                batch5 = nn.BatchNorm2d(32),\n",
    "                relu5 = nn.ReLU(),\n",
    "\n",
    "                one2one = nn.Conv2d(32, 1, 1, stride=1),\n",
    "\n",
    "                flatten = nn.Flatten(1, -1),\n",
    "                linear1 = nn.Linear(266, 16, bias=True),\n",
    "                linear2 = nn.Linear(16, 1, bias=True),\n",
    "            )\n",
    "        )\n",
    "\n",
    "    def forward(self, x):\n",
    "        return self.layers(x)\n"
   ]
  },
  {
   "cell_type": "markdown",
   "id": "ea3610b071202fc9",
   "metadata": {},
   "source": [
    "Um das Training zu vereinfachen, laden wir unser Pytorch Modell als Pytorch Lightning Modell. Zusätzlich erstellen wir einen Logger welche den Loss während dem Training als Python Dictionary speichert."
   ]
  },
  {
   "cell_type": "code",
   "execution_count": null,
   "id": "e525069933d0edda",
   "metadata": {},
   "outputs": [],
   "source": [
    "model = DriveModel()\n",
    "lightning_model = LightningDriveModel(model)\n",
    "\n",
    "logger = DictLogger()"
   ]
  },
  {
   "cell_type": "markdown",
   "id": "bdc6253140d29693",
   "metadata": {},
   "source": [
    "Wir können uns die Architektur des Modells anschauen.\n",
    "Hier sieht man die einzelnen Schichten (Layers), welche Ausgangssignale (Output Shape) sie erzeugen, sowie die Anzahl künstlicher Neuronen (Parameter), welche sie enthalten."
   ]
  },
  {
   "cell_type": "code",
   "execution_count": null,
   "id": "e1951450",
   "metadata": {},
   "outputs": [],
   "source": [
    "ModelSummary().on_fit_start(Trainer(), lightning_model)"
   ]
  },
  {
   "cell_type": "markdown",
   "id": "90ebb509",
   "metadata": {},
   "source": [
    "### Trainieren"
   ]
  },
  {
   "cell_type": "markdown",
   "id": "6b1f532bec206c02",
   "metadata": {},
   "source": [
    "Für das Training fehlen uns jetzt nur noch die Hyperparameter:\n",
    "- Epochs = Wie viel mal das Modell mit dem ganzen Datensatz trainiert\n",
    "- Learning Rate = Wie stark sich das Modell während dem Training anpasst"
   ]
  },
  {
   "cell_type": "code",
   "execution_count": null,
   "id": "e791e06c",
   "metadata": {
    "id": "e791e06c",
    "jupyter": {
     "outputs_hidden": false
    },
    "pycharm": {
     "name": "#%%\n"
    }
   },
   "outputs": [],
   "source": [
    "# Hyperparameter definieren\n",
    "EPOCHS = 20\n",
    "LEARNING_RATE = 0.005\n",
    "\n",
    "lightning_model.lr = LEARNING_RATE\n",
    "\n",
    "# Trainer initialisieren.\n",
    "trainer = Trainer(max_epochs=EPOCHS, callbacks=[logger])"
   ]
  },
  {
   "cell_type": "code",
   "execution_count": null,
   "id": "49bdd69c",
   "metadata": {
    "colab": {
     "base_uri": "https://localhost:8080/",
     "height": 954
    },
    "id": "49bdd69c",
    "jupyter": {
     "outputs_hidden": false
    },
    "outputId": "904e6b73-280e-424f-90c2-7422ff578ebf",
    "pycharm": {
     "name": "#%%\n"
    }
   },
   "outputs": [],
   "source": [
    "%%time\n",
    "# Die Zeile oben Zeile sorgt dafür, dass unten angezeigt wird, wie lange es gedauert hat, diese Notebook Zelle auszuführen.\n",
    "\n",
    "torch.set_float32_matmul_precision('medium')  # Beschleunigt das Training auf Kosten leicht geringerer Präzision\n",
    "\n",
    "# Das Training starten. Dieses dauert eine Weile...\n",
    "trainer.fit(lightning_model, training_loader, validation_loader\n",
    "\n",
    "\n",
    ")"
   ]
  },
  {
   "cell_type": "markdown",
   "id": "4cd44cdbaa572537",
   "metadata": {},
   "source": [
    "Hinweis: Falls der Fehler `Unexpected bus error encountered in worker. This might be caused by insufficient shared memory (shm)` auftritt, musst du die BATCH_SIZE reduzieren."
   ]
  },
  {
   "cell_type": "markdown",
   "id": "817cd7a9",
   "metadata": {},
   "source": [
    "### Training anzeigen\n",
    "\n",
    "### 📝 Aufgabe 3.3\n",
    "Um das Training beurteilen zu können müssen wir die geloggten Metriken auswerten. In `logger.metrics` sind für jede Epoche der Validation Loss, und der Trainings Loss gespeichert. Plotte die Metriken mit Matplotlib und vergiss nicht den Plot in der run directory zu speichern.\n",
    "\n",
    "*Tipp: Es kann sein, dass nicht alle Metriken in allen Epochen geloggt werden.*"
   ]
  },
  {
   "cell_type": "code",
   "execution_count": null,
   "id": "183eb730e6c70c56",
   "metadata": {},
   "outputs": [],
   "source": [
    "def plot_training(metrics: list[dict[str, list[float]]], save_to: str | Path = None):\n",
    "    # 📝 Aufgabe: Plotte die Metriken\n",
    "    pass\n",
    "\n",
    "\n",
    "plot_training(logger.metrics, save_to=run_directory)"
   ]
  },
  {
   "cell_type": "markdown",
   "id": "3327640796ac7d44",
   "metadata": {},
   "source": [
    "Mit der folgenden Funktion können wir unserem Modell ein Bild geben den Winkel erhalten:"
   ]
  },
  {
   "cell_type": "code",
   "execution_count": null,
   "id": "e0c3021d",
   "metadata": {},
   "outputs": [],
   "source": [
    "def predict(img_tensor):\n",
    "    model.eval()\n",
    "    with torch.no_grad():\n",
    "        y_pred = model(img_tensor.unsqueeze(0))\n",
    "    return y_pred.item()\n",
    "\n",
    "# Testen wir unsere Funktion\n",
    "image_tensor, _ = train_dataset[0]\n",
    "angle_pred = predict(image_tensor)\n",
    "print(f\"Predicted angle: {angle_pred}\")"
   ]
  },
  {
   "cell_type": "markdown",
   "id": "df7b9d004c089732",
   "metadata": {
    "id": "dd7b215b"
   },
   "source": [
    "## Validierung\n",
    "Die Trainingsmetriken zeigen uns schon auf wie gut unser Training geklappt hat. Um einen noch besseren Einblick zu bekommen, wie gut das trainierte Modell tatsächlich ist, können wir verschiedene Methoden anwenden um unser Modell zu testen."
   ]
  },
  {
   "cell_type": "markdown",
   "id": "efa0f5644b1ac306",
   "metadata": {},
   "source": [
    "### 📝 Aufgabe 3.4\n",
    "Als erstes wollen wir den totalen Fehler über das ganze Test-Set berechnen. Schreibe eine Funktion, welche:\n",
    "1. ein datenset entgegen nimmt,\n",
    "2. über das datenset iteriert und für jedes Bild eine Prediction macht (nutze die `predict` funktion von oben)\n",
    "3. für jede Prediction den Fehler ausrechnet (`y_pred` - `y_true`)\n",
    "4. die Fehler zusammenzählen\n",
    "5. den total Fehler durch die Anzahl Bilder teilt um den Durchschnittlichen Fehler zu bekommen\n",
    "6. den Fehler zurückgibt und ihn als text file in `save_to` speichert."
   ]
  },
  {
   "cell_type": "code",
   "execution_count": null,
   "id": "TZBKuQMWkl15",
   "metadata": {
    "colab": {
     "base_uri": "https://localhost:8080/",
     "height": 17
    },
    "id": "TZBKuQMWkl15",
    "outputId": "eef0b2e3-67d9-4dd9-9b55-58e6eb4956a3"
   },
   "outputs": [],
   "source": [
    "def calculate_error(data: Dataset, save_to: str | Path = None) -> float:\n",
    "    # 📝 Vervollständige die funktion:\n",
    "    true_y = [angle.item() for _, angle in data]\n",
    "    pred_y = ...\n",
    "\n",
    "\n",
    "error = calculate_error(val_dataset, save_to=run_directory)\n",
    "print(f\"Der durchschnittliche Fehler auf dem Validierung-Set ist {error:.1f}\")"
   ]
  },
  {
   "cell_type": "markdown",
   "id": "9e998b79",
   "metadata": {},
   "source": [
    "Was sagt uns diese Zahl? Wie gross im Durchschnitt der Winkel-Fehler ist. Eigentlich müssen wir aber nur eins wissen: Je geringer, desto besser unser Modell! Der Fehler hilft uns also vor allem verschiedenen Modelle zu vergleichen.\n",
    "\n",
    "Wir können aber auch visuell überprüfen, ob das Modell die Kurven korrekt vorhersagt und bei welchen Werten es Mühe hat. Dazu sortieren wir zuerst das Datenset der Grösse nach. Wenn das Modell gut ist sollten die Linien übereinander liegen."
   ]
  },
  {
   "cell_type": "code",
   "execution_count": null,
   "id": "DKKLYigDlCrw",
   "metadata": {
    "colab": {
     "base_uri": "https://localhost:8080/",
     "height": 699
    },
    "id": "DKKLYigDlCrw",
    "outputId": "be544d75-9ff6-433b-ca25-e72354c6a985"
   },
   "outputs": [],
   "source": [
    "def visualize_angels(data: Dataset):\n",
    "    true_y = [angle.item() for _, angle in data]\n",
    "\n",
    "    n = min(100, len(true_y))\n",
    "    true_y_plot = true_y[:n]\n",
    "    pred_y_plot = [predict(image_tensor) for image_tensor, _ in val_dataset][:n]\n",
    "    sorted_idx = np.argsort(true_y_plot)\n",
    "    true_y_plot = np.array(true_y_plot)[sorted_idx]\n",
    "    pred_y_plot = np.array(pred_y_plot)[sorted_idx]\n",
    "\n",
    "    plt.plot(true_y_plot, label=\"True\")\n",
    "    plt.plot(pred_y_plot, label=\"Predicted\")\n",
    "    plt.legend()\n",
    "    plt.ylabel(\"Angle\")\n",
    "    plt.title(\"Visuelle Inspektion\")\n",
    "\n",
    "visualize_angels(val_dataset)"
   ]
  },
  {
   "cell_type": "markdown",
   "id": "959e9bee4a0aebc0",
   "metadata": {},
   "source": [
    "Als letzte Analyse wollen wir noch einige Bilder manuell inspizieren. Dazu brauchen wir eine Funktion die einige zufällige Bilder aus einem Datenset auswählt, durch das Modell laufen lässt und danach das Resultat darstellt.\n",
    "\n",
    "### 📝 Aufgabe 3.5\n",
    "Schreibe eine Funktion die\n",
    "1. als Argument ein Dataloader und ein `save_to` Pfad entgegen nimmt\n",
    "2. aus dem Dataloader 6 zufällige Bilder auswählt und in einer Liste speichert\n",
    "3. zu jedem ausgewählten Bild den echten Wert für den Winkel in einer zweiten Liste speichert\n",
    "4. zu jedem Bild mit der `predict` Funktion eine prediction macht und in einer dritten Liste speichert\n",
    "5. die Bilder zusammen mit `True`, `Pred` und `Fehler` plottet\n",
    "6. den Plot anzeigt und in der `save_to` directory als png speichert."
   ]
  },
  {
   "cell_type": "code",
   "execution_count": null,
   "id": "d6fdcaf33d9b31f6",
   "metadata": {
    "colab": {
     "base_uri": "https://localhost:8080/",
     "height": 1000
    },
    "id": "76b674ec-08ad-4cb7-b9f7-885c764090ad",
    "outputId": "6c7b5a4a-7c3b-4774-9167-757d600e08ca",
    "pycharm": {
     "name": "#%%\n"
    }
   },
   "outputs": [],
   "source": [
    "def visualize_drive_predictions(dataloader: DataLoader, save_to: str | Path = None):\n",
    "    # 📝 Vervollständige die funktion:\n",
    "    pass\n",
    "\n",
    "\n",
    "visualize_drive_predictions(val_dataset, save_to=run_directory)"
   ]
  },
  {
   "cell_type": "markdown",
   "id": "dd2809e7-20af-47ac-82b7-e6a190580e81",
   "metadata": {
    "id": "dd2809e7-20af-47ac-82b7-e6a190580e81",
    "pycharm": {
     "name": "#%% md\n"
    }
   },
   "source": [
    "## Modell Export\n",
    "\n",
    "Damit wir unser Modell auf dem Auto laufen lassen können, müssen wir es exportieren.\n",
    "\n",
    "Dazu speichern wir es im ONNX-Format. Dieses Format komprimiert und optimiert das Model, damit es so schnell wie möglich auf dem Auto läuft (fps). Die export funktion benötigt ein Beispiel Input um die \"shape\" zu speichern."
   ]
  },
  {
   "cell_type": "code",
   "execution_count": null,
   "id": "760f3c3e",
   "metadata": {},
   "outputs": [],
   "source": [
    "# Definieren, wo das Model gespeichert werden soll. Erstelle den Ordner, falls er noch nicht existiert.\n",
    "model_path = Path('../models/drive/DriveModel_v1.onnx')\n",
    "\n",
    "# Zur Sicherheit prüfen, ob das Model bereits existiert, (lösche es, wenn du es überschreiben willst. Oder benenne es um)\n",
    "assert not model_path.exists(), f'Das Model existiert bereits'\n",
    "\n",
    "# Model speichern\n",
    "example_input = train_dataset[0][0].unsqueeze(0)\n",
    "torch.onnx.export(\n",
    "    model.to('cpu'),\n",
    "    example_input,\n",
    "    model_path,\n",
    ")"
   ]
  },
  {
   "cell_type": "code",
   "execution_count": null,
   "id": "77d50ff79f33bb55",
   "metadata": {},
   "outputs": [],
   "source": []
  }
 ],
 "metadata": {
  "accelerator": "GPU",
  "colab": {
   "gpuType": "T4",
   "provenance": []
  },
  "kernelspec": {
   "display_name": "Python 3 (ipykernel)",
   "language": "python",
   "name": "python3"
  },
  "language_info": {
   "codemirror_mode": {
    "name": "ipython",
    "version": 3
   },
   "file_extension": ".py",
   "mimetype": "text/x-python",
   "name": "python",
   "nbconvert_exporter": "python",
   "pygments_lexer": "ipython3",
   "version": "3.11.9"
  }
 },
 "nbformat": 4,
 "nbformat_minor": 5
}
