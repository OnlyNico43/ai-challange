{
 "cells": [
  {
   "cell_type": "markdown",
   "metadata": {},
   "source": [
    "# Fahrmodell optimieren\n",
    "\n",
    "⚠️ **In diesem Notebook befinden sich Aufgaben. Ihr müsst die gelösten Aufgaben eurem Coach abgeben, damit sie bewertet werden.** ⚠️"
   ]
  },
  {
   "cell_type": "markdown",
   "metadata": {},
   "source": [
    "Nachdem wir unser erstes Modell trainiert haben, ist es wahrscheinlich noch nicht perfekt. Machine learning lebt davon ein Modell Stück um Stück zu verbessern. Jetzt geht es darum, das Modell Schritt für Schritt zu verbessern. Ein Methodisches vorgehen lohnt sich:\n",
    "1. Eine Änderung am Modell oder den Daten machen und das Modell trainieren\n",
    "2. Genau dokumentieren und die Hyperparameter, Architektur, Datenset, ... im Run Ordner speichern.\n",
    "3. Das Modell auswerten und auch diese Informationen (Loss, Trainingsverlauf, ...) im Run Ordner speichern.\n",
    "4. Die Resultate vergleichen und entscheiden ob die Änderung beibehalten wird oder nicht.\n",
    "    - Falls das Modell schlechter wurde, überlegen wieso und ob wir etwas dagegen tun können.\n",
    "5. Immer wieder auf einer Teststrecke mit dem Auto Testen.\n",
    "\n",
    "Es gibt verschiedene Möglichkeiten das Fahrmodell zu verbessern:\n",
    "\n",
    "### Augmentation\n",
    "- Informier dich in der Dokumentation was die Parameter von `ColorJitter` bewirken und spiele damit herum. Kannst du so dein Modell verbessern?\n",
    "- Füge weitere Transformationen ein, welche für unseren Anwendungsfall sinnvoll sind, und schaue, ob dein Model dadurch besser wird. Z.B:\n",
    "  - Leichte Drehung (nur wenige Grad)\n",
    "  - Blur (Unschärfe)\n",
    "  - Resize/Crop (auch hier nur um wenige Pixel)\n",
    "- Um zu sehen, ob das Modell besser ist, kannst du auf den Fehler im Trainings-Set schauen. Zusätzlich kannst du schauen, ob das Auto auf einer noch nie gesehen Bahn besser ist und mit den Lichtverhältnissen im Raum spielen (andere Tageszeit, Läden öffnen/schliessen, verschiedenen Lampen etc.)\n",
    "\n",
    "### Hyperparameter\n",
    "Teste verschiedene Werte für die Hyperparameter (Lernrate, Anzahl Epochen, Batch-Size usw.)\n",
    "\n",
    "### Daten\n",
    "Die Anzahl und Auswahl der Daten hat einen grosssen Einfluss auf dein Modell. Oft lohnt es sich mehr Daten zu sammeln aber die Auswahl (Verschiedene Daten) und Qualität ist ebenso wichtig.\n",
    "\n",
    "### Architektur (Anspruchsvoll)\n",
    "Die vorgegebene Architektur sollte bereits gut funktionieren. Aber natürlich kannst du auch an der Architektur des Modells herumexperimentieren:\n",
    "- Anzahl Convolution Layers (Feature Extractor)\n",
    "- Anzahl Linear Layers (Classifier)\n",
    "- Anzahl Channels in den Layers\n",
    "- Stride Grösse in den Layers\n",
    "\n",
    "Findest du eine Architektur, welche noch besser funktioniert?"
   ]
  },
  {
   "cell_type": "markdown",
   "metadata": {},
   "source": [
    "### 📝 Aufgabe 3.7\n",
    "\n",
    "Trainiere min. verschiedene 4 Modelle und führe Buch über deine Experimente. Zum Beispiel in einer Tabelle wie dieser:\n",
    "\n",
    "| Datum    | Experiment Name | Notizen / Änderung | Trainingsdaten (Welche, Anzahl) | Anzahl Epochen | Architektur | Error Validierungs-Set | Fahrtest bestanden? | Error Test-Set (Zusatzaufgabe) |\n",
    "|----------|----------------|--------------------|--------------------------------|----------------|-------------|-----------------------|---------------------|-------------------------------------|\n",
    "| 08.11.25 | Fahrmodell_v1  | lr = 0.001         | 10k, Ordner: data/drive-1      | 30             | Standart    | 5.6                   | Ja                  | 7.2                                 |\n",
    "|          |                |                    |                                |                |             |                       |                     |                                     |\n",
    "|          |                |                    |                                |                |             |                       |                     |                                     |\n",
    "|          |                |                    |                                |                |             |                       |                     |                                     |\n",
    "|          |                |                    |                                |                |             |                       |                     |                                     |\n",
    "|          |                |                    |                                |                |             |                       |                     |                                     |\n",
    "\n",
    "Präsentiere deine Resultate deinem Betreuer!"
   ]
  },
  {
   "cell_type": "markdown",
   "metadata": {},
   "source": [
    "## Zusatzaufgabe (freiwillig)\n",
    "\n",
    "Wie in der Theorie erwähnt, gibt es neben Train- und Validierungs-Set oft auch noch ein Testset. Das Testset ist ein komplett eigenständiges Set von Daten, welches nur für die Überprüfung verwendet wird. Daten aus dem Testset werden nie fürs Training verwendet (auch nicht Teile davon). So erhältst du schnell ein Feedback, wie dein Model auf eine noch nie gesehen Bahn reagiert.\n",
    "\n",
    "- Nimm eine Runde auf einer Bahn auf, welche du nur für diesen Test verwendest und nie fürs Training. Das ist unser Testset.\n",
    "- Du kannst entweder ein neues Notebook erstellen und das exportierte ONNX Modell laden (benutze den Code aus `predict.py` (schwieriger) oder du verwendest das Trainierte Modell aus dem Trainings-Notebook und testest das Modell gleich nach dem Training (einfacher).\n",
    "- Füge im Notebook (Neu oder Training) einige Zellen hinzu welches das Testset mit deinem Modell vorhersagt und dir den durchschnittlichen Fehler berechnet:\n",
    "    - Bilder als Datenset einlesen\n",
    "    - Das trainierte Modell mit `calculate_error` und `visualize_angels` testen\n",
    "    - Die Resultate vergleichen oder im Run Ordner speichern\n",
    "\n",
    "Verwende anschliessend vor allem die Resultate aus dem Testset um dein Training zu beurteilen, nicht mehr das Validierungsset. Mit einem unabhängigen Testset kannst du viel aussagekräftigere Aussagen zu deinem Modell machen, gezielter optimieren und bist besser für die Challenges vorbereitet."
   ]
  }
 ],
 "metadata": {
  "kernelspec": {
   "display_name": ".venv",
   "language": "python",
   "name": "python3"
  },
  "language_info": {
   "name": "python",
   "version": "3.11.9"
  }
 },
 "nbformat": 4,
 "nbformat_minor": 2
}
