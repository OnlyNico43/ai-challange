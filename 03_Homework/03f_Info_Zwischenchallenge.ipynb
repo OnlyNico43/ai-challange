{
 "cells": [
  {
   "cell_type": "markdown",
   "id": "11afed6e-38ec-4dde-9b76-aa5343ac1d7e",
   "metadata": {
    "id": "11afed6e-38ec-4dde-9b76-aa5343ac1d7e",
    "pycharm": {
     "name": "#%% md\n"
    }
   },
   "source": [
    "# Zwischenchallenge\n",
    "\n",
    "Am 22.11.2025 findet das Zwischenevent statt, bei dem ihr die Leistung eures Fahrmodells unter Beweis stellen müsst. Am Vormittag habt ihr die Gelegenheit, noch zusätzliche Trainingsdaten zu sammeln und euer Modell weiter zu optimieren.\n",
    "\n",
    "Am Nachmittag beginnen die Challenges, bei denen insgesamt bis zu 20 Punkte erreicht werden können.\n",
    "\n",
    "Die Challenges lauten wie folgt:\n",
    "\n",
    "1. Debug-Strecke - 12p\n",
    "    - Eine kürzere Strecke mit weiten Kurven und vielen Geraden.\n",
    "    - Es gibt 5 Punkte für die erste Hälfte, 5 Punkte für die zweite Hälfte und 2 zusätzliche Punkte wenn die gesamte Strecke in einem Versuch gefahren wird.\n",
    "2. Schloss-Kurs - 8p\n",
    "    - Eine anspruchsvolle Strecke mit engen Kurven, Kreuzungen, verschiedenen Untergründen, und weiteren Hindernissen.\n",
    "    - Pro geschafftem Hindernis gibt es 2 Punkte."
   ]
  },
  {
   "cell_type": "markdown",
   "id": "a0033778",
   "metadata": {},
   "source": []
  }
 ],
 "metadata": {
  "accelerator": "GPU",
  "colab": {
   "gpuType": "T4",
   "provenance": []
  },
  "kernelspec": {
   "display_name": "Python 3",
   "name": "python3"
  },
  "language_info": {
   "codemirror_mode": {
    "name": "ipython",
    "version": 3
   },
   "file_extension": ".py",
   "mimetype": "text/x-python",
   "name": "python",
   "nbconvert_exporter": "python",
   "pygments_lexer": "ipython3",
   "version": "3.11.9"
  }
 },
 "nbformat": 4,
 "nbformat_minor": 5
}
